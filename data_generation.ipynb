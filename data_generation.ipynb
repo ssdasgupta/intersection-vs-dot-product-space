{
 "cells": [
  {
   "cell_type": "markdown",
   "metadata": {},
   "source": [
    "# Create the data based on the following description\n",
    "\n"
   ]
  },
  {
   "cell_type": "code",
   "execution_count": 1,
   "metadata": {},
   "outputs": [],
   "source": [
    "from tqdm import tqdm\n",
    "import numpy as np\n",
    "import pandas as pd\n",
    "from sklearn.metrics import pairwise_distances\n",
    "from scipy.sparse import csr_matrix\n",
    "import random\n",
    "\n",
    "\n",
    "import torch\n",
    "import torch.nn as nn\n",
    "from torch.utils.data import Dataset, DataLoader\n",
    "from loss import nll"
   ]
  },
  {
   "cell_type": "code",
   "execution_count": 30,
   "metadata": {},
   "outputs": [],
   "source": [
    "\n",
    "def build_item_attribute_matrix(item_attribute_dict, attribute_list=None):\n",
    "    items = list(item_attribute_dict.keys())\n",
    "    attributes = attribute_list if attribute_list else sorted({a for attrs in item_attribute_dict.values() for a in attrs})\n",
    "    item_idx = {item: i for i, item in enumerate(items)}\n",
    "    attr_idx = {attr: i for i, attr in enumerate(attributes)}\n",
    "    matrix = np.zeros((len(items), len(attributes)))\n",
    "    \n",
    "    for item, attrs in item_attribute_dict.items():\n",
    "        for attr in attrs:\n",
    "            matrix[item_idx[item], attr_idx[attr]] = 1\n",
    "    return matrix, items, attributes\n",
    "\n",
    "\n",
    "def jaccard_similarity(matrix):\n",
    "    A = matrix.astype(bool).astype(int)  # Ensure binary matrix\n",
    "    n = A.shape[1]\n",
    "    sim = np.zeros((n, n))\n",
    "\n",
    "    for i in range(n):\n",
    "        for j in range(n):\n",
    "            if i == j:\n",
    "                sim[i, j] = 1.0\n",
    "            else:\n",
    "                inter = np.logical_and(A[:, i], A[:, j]).sum()\n",
    "                union = np.logical_or(A[:, i], A[:, j]).sum()\n",
    "                sim[i, j] = inter / union if union != 0 else 0.0\n",
    "    return sim\n",
    "\n",
    "\n",
    "def generate_similarity_based_user_attributes(attr_sim, num_users, top_k=5, diversity_rounds=2):\n",
    "    num_attributes = attr_sim.shape[0]\n",
    "    user_attr_matrix = np.zeros((num_users, num_attributes))\n",
    "    \n",
    "    for u in range(num_users):\n",
    "        selected = set()\n",
    "        for _ in range(diversity_rounds):\n",
    "            remaining_attrs = [a for a in range(num_attributes) if a not in selected]\n",
    "            if not remaining_attrs:\n",
    "                break\n",
    "            seed = random.choice(remaining_attrs)\n",
    "            sims = attr_sim[seed]\n",
    "            probs = sims / sims.sum()\n",
    "            non_zero_indices = np.where(probs > 0)[0]\n",
    "            sample_size = min(top_k, len(non_zero_indices))\n",
    "            chosen = np.random.choice(non_zero_indices, size=sample_size, replace=False)\n",
    "            selected.update(chosen)\n",
    "        user_attr_matrix[u, list(selected)] = 1\n",
    "    return user_attr_matrix\n",
    "\n",
    "def compute_attribute_overlap(matrix):\n",
    "    I = matrix\n",
    "    overlaps = {}\n",
    "    for a in range(I.shape[1]):\n",
    "        for b in range(a+1, I.shape[1]):\n",
    "            Ia, Ib = I[:, a], I[:, b]\n",
    "            inter = np.logical_and(Ia, Ib).sum()\n",
    "            if Ia.sum() == 0 or Ib.sum() == 0: continue\n",
    "            rmax = max(inter / Ia.sum(), inter / Ib.sum())\n",
    "            rmin = min(inter / Ia.sum(), inter / Ib.sum())\n",
    "            overlaps[(a, b)] = (rmax, rmin)\n",
    "    return overlaps\n",
    "\n",
    "def generate_set_theoretic_rules(overlaps, num_users, k=2, l=1, tau1=0.8, tau2=0.2, tau3=0.85):\n",
    "    user_rules = []\n",
    "    conjunctions = [pair for pair, (rmax, rmin) in overlaps.items() if rmax < tau1 and rmin > tau2]\n",
    "    negations = [pair for pair, (rmax, rmin) in overlaps.items() if rmin > tau3]\n",
    "\n",
    "    for _ in range(num_users):\n",
    "        num_and_clauses = random.randint(2, 4)\n",
    "        num_not_clauses = random.randint(0, 1)\n",
    "        \n",
    "        P = random.sample(conjunctions, min(num_and_clauses, len(conjunctions)))\n",
    "        N = random.sample(negations, min(num_not_clauses, len(negations)))\n",
    "        clause = {\"and\": P, \"not\": N}\n",
    "        user_rules.append(clause)\n",
    "    return user_rules, conjunctions, negations\n",
    "\n",
    "def evaluate_dnf_rule(rule, item_attrs):\n",
    "    # example rule: {'and': [(0, 1), (2, 3)], 'not': [(4, 5)]}\n",
    "    # need to validate each and and each not rule\n",
    "    # for this example, we check of 0 and 1, 2 and 3 are present, and 4 is present but 5 is not present.\n",
    "    for and_clause in rule['and']:\n",
    "        if all(item_attrs[a] for a in and_clause):\n",
    "            return 1\n",
    "    \n",
    "    for present, not_present in rule['not']:\n",
    "        if item_attrs[present] and not item_attrs[not_present]:\n",
    "            return 1\n",
    "\n",
    "    return 0\n",
    "\n",
    "\n",
    "def generate_user_item_matrix_dot(Mua, Mia, tau_user=None):\n",
    "    scores = Mua @ Mia.T\n",
    "    Mui_dot = np.zeros_like(scores)\n",
    "    for u in range(scores.shape[0]):\n",
    "        threshold = tau_user[u] if tau_user is not None else np.percentile(scores[u], 75)\n",
    "        Mui_dot[u] = (scores[u] > threshold).astype(int)\n",
    "    return Mui_dot\n",
    "\n",
    "def generate_user_item_matrix_set(user_rules, Mia):\n",
    "    num_users = len(user_rules)\n",
    "    num_items = Mia.shape[0]\n",
    "    Mui_set = np.zeros((num_users, num_items))\n",
    "    for u in range(num_users):\n",
    "        for i in range(num_items):\n",
    "            Mui_set[u, i] = evaluate_dnf_rule(user_rules[u], Mia[i])\n",
    "    return Mui_set\n",
    "\n",
    "def combine_preferences(Mui_dot, Mui_set, p=0.5):\n",
    "    U = Mui_dot.shape[0]\n",
    "    z = np.random.binomial(1, p, U)\n",
    "    return np.array([Mui_set[u] if z[u] else Mui_dot[u] for u in range(U)])\n",
    "\n",
    "def apply_noise(matrix, noise_fraction=0.1):\n",
    "    noisy_matrix = matrix.copy()\n",
    "    indices = np.argwhere(matrix == 1)\n",
    "    num_flips = int(noise_fraction * len(indices))\n",
    "    to_flip = indices[np.random.choice(len(indices), num_flips, replace=False)]\n",
    "    for i, j in to_flip:\n",
    "        noisy_matrix[i, j] = 0\n",
    "    return noisy_matrix\n"
   ]
  },
  {
   "cell_type": "markdown",
   "metadata": {},
   "source": [
    "Step 1: Load Attribute Item matrix.\n",
    "Step 2: Get similarity (Jaccard) between attributes\n",
    "Step 3: "
   ]
  },
  {
   "cell_type": "code",
   "execution_count": 31,
   "metadata": {},
   "outputs": [
    {
     "name": "stdout",
     "output_type": "stream",
     "text": [
      "Loaded 3883 movies with their genres\n",
      "\n",
      "Example items:\n",
      "Movie 1: ['animation', \"children's\", 'comedy']\n",
      "Movie 2: ['adventure', \"children's\", 'fantasy']\n",
      "Movie 3: ['comedy', 'romance']\n",
      "Movie 4: ['comedy', 'drama']\n",
      "Movie 5: ['comedy']\n"
     ]
    }
   ],
   "source": [
    "# Step 1: Example item–attribute dict\n",
    "# Load item-attribute dict from MovieLens data\n",
    "item_attr_dict = {}\n",
    "with open('data/item_tag_dict.txt', 'r') as f:\n",
    "    for line in f:\n",
    "        movie_id, tags = line.strip().split(': ')\n",
    "        item_attr_dict[movie_id] = tags.split(', ')\n",
    "\n",
    "print(f\"Loaded {len(item_attr_dict)} movies with their genres\")\n",
    "print(\"\\nExample items:\")\n",
    "for movie_id, tags in list(item_attr_dict.items())[:5]:\n",
    "    print(f\"Movie {movie_id}: {tags}\")\n",
    "\n",
    "Mia, items, attrs = build_item_attribute_matrix(item_attr_dict)\n",
    "attr_sim = jaccard_similarity(Mia)"
   ]
  },
  {
   "cell_type": "code",
   "execution_count": 32,
   "metadata": {},
   "outputs": [],
   "source": [
    "# Step 2: User–attribute preferences\n",
    "Mua = generate_similarity_based_user_attributes(attr_sim, num_users=200, diversity_rounds=5)\n"
   ]
  },
  {
   "cell_type": "code",
   "execution_count": 33,
   "metadata": {},
   "outputs": [],
   "source": [
    "# Step 3: Set-theoretic rules\n",
    "overlaps = compute_attribute_overlap(Mia)\n",
    "user_rules, conjunctions, negations = generate_set_theoretic_rules(overlaps, num_users=200, k=2, l=0, tau1=0.3, tau2=0.01, tau3=0.05)"
   ]
  },
  {
   "cell_type": "code",
   "execution_count": 67,
   "metadata": {},
   "outputs": [
    {
     "name": "stdout",
     "output_type": "stream",
     "text": [
      "(adventure & comedy) or (animation & comedy) or (adventure & horror) or (comedy & sci-fi)\n",
      "(crime & horror) or (thriller & war) or (action & western)\n",
      "(crime & horror) or (adventure & horror) or (adventure & comedy) or (romance & not thriller)\n",
      "(comedy & mystery) or (adventure & mystery)\n",
      "(crime & mystery) or (comedy & fantasy) or (children's & sci-fi) or (action & thriller)\n"
     ]
    }
   ],
   "source": [
    "# print a few user rules in attribute names parse the rules to attribute names\n",
    "\n",
    "for rule in user_rules[:5]:\n",
    "    and_clauses = [f\"({attrs[a]} & {attrs[b]})\" for (a, b) in rule['and']]\n",
    "    not_clauses = [f\"({attrs[present]} & not {attrs[not_present]})\" for (present, not_present) in rule['not']]\n",
    "    all_clauses = and_clauses + not_clauses\n",
    "    print(\" or \".join(all_clauses))"
   ]
  },
  {
   "cell_type": "code",
   "execution_count": 34,
   "metadata": {},
   "outputs": [
    {
     "data": {
      "text/plain": [
       "{'and': [(14, 15), (1, 5), (4, 5), (1, 12)], 'not': []}"
      ]
     },
     "execution_count": 34,
     "metadata": {},
     "output_type": "execute_result"
    }
   ],
   "source": [
    "user_rules[12]"
   ]
  },
  {
   "cell_type": "code",
   "execution_count": 35,
   "metadata": {},
   "outputs": [
    {
     "name": "stdout",
     "output_type": "stream",
     "text": [
      "Rank of Mui_dot: 130\n",
      "Rank of Mui_set: 188\n"
     ]
    }
   ],
   "source": [
    "# Step 4: User–item matrices\n",
    "Mui_dot = generate_user_item_matrix_dot(Mua, Mia)\n",
    "Mui_set = generate_user_item_matrix_set(user_rules, Mia)\n",
    "\n",
    "# rank of Mui_dot\n",
    "rank_Mui_dot = np.linalg.matrix_rank(Mui_dot)\n",
    "print(f\"Rank of Mui_dot: {rank_Mui_dot}\")\n",
    "\n",
    "# rank of Mui_set\n",
    "rank_Mui_set = np.linalg.matrix_rank(Mui_set)\n",
    "print(f\"Rank of Mui_set: {rank_Mui_set}\")\n"
   ]
  },
  {
   "cell_type": "code",
   "execution_count": 36,
   "metadata": {},
   "outputs": [
    {
     "name": "stdout",
     "output_type": "stream",
     "text": [
      "Sparsity of Mui_dot: 90.26%\n",
      "Sparsity of Mui_set: 93.79%\n",
      "Number of non-zero elements in Mui_dot: 75663\n",
      "Number of non-zero elements in Mui_set: 48243\n",
      "Total elements in matrix: 776600\n"
     ]
    }
   ],
   "source": [
    "\n",
    "def calculate_sparsity(matrix):\n",
    "    \"\"\"\n",
    "    Calculate the sparsity of a matrix (percentage of zero elements).\n",
    "    \"\"\"\n",
    "    total_elements = matrix.size\n",
    "    zero_elements = np.count_nonzero(matrix == 0)\n",
    "    sparsity = (zero_elements / total_elements) * 100\n",
    "    return sparsity\n",
    "\n",
    "# Calculate sparsity for both matrices\n",
    "sparsity_dot = calculate_sparsity(Mui_dot)\n",
    "sparsity_set = calculate_sparsity(Mui_set)\n",
    "\n",
    "print(f\"Sparsity of Mui_dot: {sparsity_dot:.2f}%\")\n",
    "print(f\"Sparsity of Mui_set: {sparsity_set:.2f}%\")\n",
    "print(f\"Number of non-zero elements in Mui_dot: {np.count_nonzero(Mui_dot)}\")\n",
    "print(f\"Number of non-zero elements in Mui_set: {np.count_nonzero(Mui_set)}\")\n",
    "print(f\"Total elements in matrix: {Mui_dot.size}\")"
   ]
  },
  {
   "cell_type": "code",
   "execution_count": 37,
   "metadata": {},
   "outputs": [],
   "source": [
    "# Step 5: Combine preferences\n",
    "Mui = combine_preferences(Mui_dot, Mui_set, p=0.6)\n",
    "\n",
    "# Step 6: Inject noise\n",
    "Mui_noisy = apply_noise(Mui, noise_fraction=0.1)"
   ]
  },
  {
   "cell_type": "code",
   "execution_count": 63,
   "metadata": {},
   "outputs": [
    {
     "name": "stdout",
     "output_type": "stream",
     "text": [
      "Sparsity of Mui: 92.36%\n",
      "Sparsity of Mui_dot: 90.26%\n",
      "Sparsity of Mui_set: 93.79%\n",
      "Sparsity of Mui_noisy: 93.12%\n"
     ]
    }
   ],
   "source": [
    "# sparsity of Mui, Mui_dot, Mui_set, Mui_noisy\n",
    "print(f\"Sparsity of Mui: {calculate_sparsity(Mui):.2f}%\")\n",
    "print(f\"Sparsity of Mui_dot: {calculate_sparsity(Mui_dot):.2f}%\")\n",
    "print(f\"Sparsity of Mui_set: {calculate_sparsity(Mui_set):.2f}%\")\n",
    "print(f\"Sparsity of Mui_noisy: {calculate_sparsity(Mui_noisy):.2f}%\")\n"
   ]
  },
  {
   "cell_type": "code",
   "execution_count": 69,
   "metadata": {},
   "outputs": [
    {
     "name": "stdout",
     "output_type": "stream",
     "text": [
      "Rank of Mui: 194\n",
      "Rank of Mui_dot: 130\n",
      "Rank of Mui_set: 188\n",
      "Rank of Mui_noisy: 200\n"
     ]
    }
   ],
   "source": [
    "# check the rank of Mui, Mui_dot, Mui_set, Mui_noisy\n",
    "print(f\"Rank of Mui: {np.linalg.matrix_rank(Mui)}\")\n",
    "print(f\"Rank of Mui_dot: {np.linalg.matrix_rank(Mui_dot)}\")\n",
    "print(f\"Rank of Mui_set: {np.linalg.matrix_rank(Mui_set)}\")\n",
    "print(f\"Rank of Mui_noisy: {np.linalg.matrix_rank(Mui_noisy)}\")\n",
    "\n"
   ]
  },
  {
   "cell_type": "code",
   "execution_count": 70,
   "metadata": {},
   "outputs": [
    {
     "data": {
      "text/plain": [
       "(200, 3883)"
      ]
     },
     "execution_count": 70,
     "metadata": {},
     "output_type": "execute_result"
    }
   ],
   "source": [
    "Mui_dot.shape"
   ]
  },
  {
   "cell_type": "code",
   "execution_count": 38,
   "metadata": {},
   "outputs": [],
   "source": [
    "\n",
    "def train_test_split(matrix, test_ratio=0.2, seed=42):\n",
    "    np.random.seed(seed)\n",
    "    train = matrix.copy()\n",
    "    test = np.zeros_like(matrix)\n",
    "\n",
    "    for u in range(matrix.shape[0]):\n",
    "        pos_items = np.where(matrix[u] == 1)[0]\n",
    "        if len(pos_items) == 0:\n",
    "            continue\n",
    "        test_size = max(1, int(test_ratio * len(pos_items)))\n",
    "        test_items = np.random.choice(pos_items, size=test_size, replace=False)\n",
    "        train[u, test_items] = 0\n",
    "        test[u, test_items] = 1\n",
    "\n",
    "    return train, test\n",
    "\n",
    "class TrainingDataset(Dataset):\n",
    "    def __init__(self, user_item_matrix, num_negatives=1):\n",
    "        self.num_users, self.num_items = user_item_matrix.shape\n",
    "        self.positives = [(u, i) for u in range(self.num_users) for i in range(self.num_items) if user_item_matrix[u, i] == 1]\n",
    "        self.negatives = []\n",
    "        self.num_negatives = num_negatives\n",
    "        self.user_item_matrix = user_item_matrix\n",
    "\n",
    "    def __len__(self):\n",
    "        return len(self.positives)\n",
    "\n",
    "    def __getitem__(self, idx):\n",
    "        u, i_pos = self.positives[idx]\n",
    "        # positive example\n",
    "        i_neg = np.random.randint(0, self.num_items)\n",
    "        while self.user_item_matrix[u, i_neg] == 1:\n",
    "            i_neg = np.random.randint(0, self.num_items)\n",
    "\n",
    "        # randomly choose to return positive or negative sample\n",
    "        if np.random.rand() < 0.5:\n",
    "            return (\n",
    "                torch.tensor(u, dtype=torch.long),\n",
    "                torch.tensor(i_pos, dtype=torch.long),\n",
    "                torch.tensor(1.0, dtype=torch.float)\n",
    "            )\n",
    "        else:\n",
    "            return (\n",
    "            torch.tensor(u, dtype=torch.long),\n",
    "            torch.tensor(i_neg, dtype=torch.long),\n",
    "            torch.tensor(0.0, dtype=torch.float)\n",
    "            )\n",
    "\n",
    "\n",
    "    \n",
    "def evaluate_precision_hit(model, test_matrix, train_matrix, k=10):\n",
    "    model.eval()\n",
    "    num_users, num_items = test_matrix.shape\n",
    "    precision_scores, hit_scores = [], []\n",
    "\n",
    "    with torch.no_grad():\n",
    "        for u in range(num_users):\n",
    "            train_items = set(np.where(train_matrix[u] == 1)[0])\n",
    "            test_items = set(np.where(test_matrix[u] == 1)[0])\n",
    "            if not test_items:\n",
    "                continue\n",
    "\n",
    "            candidates = [i for i in range(num_items) if i not in train_items]\n",
    "            user_tensor = torch.tensor([u] * len(candidates))\n",
    "            item_tensor = torch.tensor(candidates)\n",
    "            scores = model(user_tensor, item_tensor).numpy()\n",
    "\n",
    "            top_k_indices = np.argsort(scores)[-k:][::-1]\n",
    "            top_k_items = [candidates[i] for i in top_k_indices]\n",
    "\n",
    "            hits = sum([1 for item in top_k_items if item in test_items])\n",
    "            precision = hits / k\n",
    "            hit = 1.0 if hits > 0 else 0.0\n",
    "\n",
    "            precision_scores.append(precision)\n",
    "            hit_scores.append(hit)\n",
    "\n",
    "    avg_precision = np.mean(precision_scores)\n",
    "    avg_hit = np.mean(hit_scores)\n",
    "    print(f\"Precision@{k}: {avg_precision:.4f}, Hit@{k}: {avg_hit:.4f}\")\n"
   ]
  },
  {
   "cell_type": "code",
   "execution_count": 39,
   "metadata": {},
   "outputs": [],
   "source": [
    "class MFModel(nn.Module):\n",
    "    def __init__(self, num_users, num_items, embedding_dim=32):\n",
    "        super(MFModel, self).__init__()\n",
    "        self.user_emb = nn.Embedding(num_users, embedding_dim)\n",
    "        self.item_emb = nn.Embedding(num_items, embedding_dim)\n",
    "    \n",
    "    def forward(self, user_idx, item_idx):\n",
    "        u = self.user_emb(user_idx)\n",
    "        i = self.item_emb(item_idx)\n",
    "        dot = (u * i).sum(dim=1)\n",
    "        return torch.sigmoid(dot)  # since preference is binary"
   ]
  },
  {
   "cell_type": "code",
   "execution_count": 40,
   "metadata": {},
   "outputs": [],
   "source": [
    "def train(model, dataloader, epochs=5, loss_type='BCE', lr=0.01):\n",
    "    optimizer = torch.optim.Adam(model.parameters(), lr=lr)\n",
    "    \n",
    "    if loss_type == 'BCE':\n",
    "        loss_fn = nn.BCELoss()\n",
    "    elif loss_type == 'MSE':\n",
    "        loss_fn = nn.MSELoss()\n",
    "    elif loss_type == 'NLL':\n",
    "        loss_fn = nll\n",
    "    else:\n",
    "        raise ValueError(f\"Invalid loss type: {loss_type}\")\n",
    "    \n",
    "    for epoch in tqdm(range(epochs)):\n",
    "        total_loss = 0.0\n",
    "        model.train()\n",
    "        for users, items, labels in dataloader:\n",
    "            preds = model(users, items)\n",
    "            if loss_type == 'BCE' or loss_type == 'MSE':\n",
    "                loss = loss_fn(preds, labels)\n",
    "            elif loss_type == 'NLL':\n",
    "                # check if labels are 1 or 0\n",
    "                pred_pos = preds[labels == 1]\n",
    "                pred_neg = preds[labels == 0]\n",
    "                loss = nll(pos=pred_pos, neg=pred_neg)\n",
    "            optimizer.zero_grad()\n",
    "            loss.backward()\n",
    "            optimizer.step()\n",
    "            total_loss += loss.item()\n",
    "        print(f\"Epoch {epoch + 1}, Loss: {total_loss:.4f}\")\n",
    "        evaluate_precision_hit(model, test_matrix, train_matrix, k=10)\n"
   ]
  },
  {
   "cell_type": "code",
   "execution_count": 56,
   "metadata": {},
   "outputs": [
    {
     "name": "stderr",
     "output_type": "stream",
     "text": [
      "  0%|          | 0/60 [00:00<?, ?it/s]"
     ]
    },
    {
     "name": "stdout",
     "output_type": "stream",
     "text": [
      "Epoch 1, Loss: 1116.2058\n"
     ]
    },
    {
     "name": "stderr",
     "output_type": "stream",
     "text": [
      "  2%|▏         | 1/60 [00:01<01:41,  1.73s/it]"
     ]
    },
    {
     "name": "stdout",
     "output_type": "stream",
     "text": [
      "Precision@10: 0.0140, Hit@10: 0.1050\n",
      "Epoch 2, Loss: 832.7717\n"
     ]
    },
    {
     "name": "stderr",
     "output_type": "stream",
     "text": [
      "  3%|▎         | 2/60 [00:03<01:36,  1.66s/it]"
     ]
    },
    {
     "name": "stdout",
     "output_type": "stream",
     "text": [
      "Precision@10: 0.0145, Hit@10: 0.1100\n",
      "Epoch 3, Loss: 652.9417\n"
     ]
    },
    {
     "name": "stderr",
     "output_type": "stream",
     "text": [
      "  5%|▌         | 3/60 [00:04<01:31,  1.60s/it]"
     ]
    },
    {
     "name": "stdout",
     "output_type": "stream",
     "text": [
      "Precision@10: 0.0160, Hit@10: 0.1100\n",
      "Epoch 4, Loss: 497.7637\n"
     ]
    },
    {
     "name": "stderr",
     "output_type": "stream",
     "text": [
      "  7%|▋         | 4/60 [00:06<01:27,  1.55s/it]"
     ]
    },
    {
     "name": "stdout",
     "output_type": "stream",
     "text": [
      "Precision@10: 0.0185, Hit@10: 0.1200\n",
      "Epoch 5, Loss: 410.3877\n"
     ]
    },
    {
     "name": "stderr",
     "output_type": "stream",
     "text": [
      "  8%|▊         | 5/60 [00:07<01:24,  1.54s/it]"
     ]
    },
    {
     "name": "stdout",
     "output_type": "stream",
     "text": [
      "Precision@10: 0.0250, Hit@10: 0.1350\n",
      "Epoch 6, Loss: 337.5972\n"
     ]
    },
    {
     "name": "stderr",
     "output_type": "stream",
     "text": [
      " 10%|█         | 6/60 [00:09<01:23,  1.54s/it]"
     ]
    },
    {
     "name": "stdout",
     "output_type": "stream",
     "text": [
      "Precision@10: 0.0400, Hit@10: 0.1950\n",
      "Epoch 7, Loss: 287.9047\n"
     ]
    },
    {
     "name": "stderr",
     "output_type": "stream",
     "text": [
      " 12%|█▏        | 7/60 [00:11<01:23,  1.58s/it]"
     ]
    },
    {
     "name": "stdout",
     "output_type": "stream",
     "text": [
      "Precision@10: 0.0485, Hit@10: 0.2050\n",
      "Epoch 8, Loss: 240.0403\n"
     ]
    },
    {
     "name": "stderr",
     "output_type": "stream",
     "text": [
      " 13%|█▎        | 8/60 [00:12<01:23,  1.60s/it]"
     ]
    },
    {
     "name": "stdout",
     "output_type": "stream",
     "text": [
      "Precision@10: 0.0615, Hit@10: 0.2250\n",
      "Epoch 9, Loss: 207.9246\n"
     ]
    },
    {
     "name": "stderr",
     "output_type": "stream",
     "text": [
      " 15%|█▌        | 9/60 [00:14<01:24,  1.65s/it]"
     ]
    },
    {
     "name": "stdout",
     "output_type": "stream",
     "text": [
      "Precision@10: 0.0775, Hit@10: 0.2500\n",
      "Epoch 10, Loss: 182.3389\n"
     ]
    },
    {
     "name": "stderr",
     "output_type": "stream",
     "text": [
      " 17%|█▋        | 10/60 [00:16<01:25,  1.70s/it]"
     ]
    },
    {
     "name": "stdout",
     "output_type": "stream",
     "text": [
      "Precision@10: 0.0970, Hit@10: 0.3050\n",
      "Epoch 11, Loss: 159.4759\n"
     ]
    },
    {
     "name": "stderr",
     "output_type": "stream",
     "text": [
      " 18%|█▊        | 11/60 [00:18<01:27,  1.78s/it]"
     ]
    },
    {
     "name": "stdout",
     "output_type": "stream",
     "text": [
      "Precision@10: 0.1060, Hit@10: 0.3250\n",
      "Epoch 12, Loss: 145.3022\n"
     ]
    },
    {
     "name": "stderr",
     "output_type": "stream",
     "text": [
      " 20%|██        | 12/60 [00:20<01:28,  1.85s/it]"
     ]
    },
    {
     "name": "stdout",
     "output_type": "stream",
     "text": [
      "Precision@10: 0.1265, Hit@10: 0.3800\n",
      "Epoch 13, Loss: 122.1113\n"
     ]
    },
    {
     "name": "stderr",
     "output_type": "stream",
     "text": [
      " 22%|██▏       | 13/60 [00:22<01:28,  1.88s/it]"
     ]
    },
    {
     "name": "stdout",
     "output_type": "stream",
     "text": [
      "Precision@10: 0.1410, Hit@10: 0.4300\n",
      "Epoch 14, Loss: 110.8111\n"
     ]
    },
    {
     "name": "stderr",
     "output_type": "stream",
     "text": [
      " 23%|██▎       | 14/60 [00:24<01:27,  1.91s/it]"
     ]
    },
    {
     "name": "stdout",
     "output_type": "stream",
     "text": [
      "Precision@10: 0.1580, Hit@10: 0.4750\n",
      "Epoch 15, Loss: 95.5508\n"
     ]
    },
    {
     "name": "stderr",
     "output_type": "stream",
     "text": [
      " 25%|██▌       | 15/60 [00:26<01:27,  1.95s/it]"
     ]
    },
    {
     "name": "stdout",
     "output_type": "stream",
     "text": [
      "Precision@10: 0.1700, Hit@10: 0.5100\n",
      "Epoch 16, Loss: 84.7659\n"
     ]
    },
    {
     "name": "stderr",
     "output_type": "stream",
     "text": [
      " 27%|██▋       | 16/60 [00:28<01:25,  1.95s/it]"
     ]
    },
    {
     "name": "stdout",
     "output_type": "stream",
     "text": [
      "Precision@10: 0.1910, Hit@10: 0.5650\n",
      "Epoch 17, Loss: 76.8398\n"
     ]
    },
    {
     "name": "stderr",
     "output_type": "stream",
     "text": [
      " 28%|██▊       | 17/60 [00:30<01:25,  1.98s/it]"
     ]
    },
    {
     "name": "stdout",
     "output_type": "stream",
     "text": [
      "Precision@10: 0.2090, Hit@10: 0.5600\n",
      "Epoch 18, Loss: 69.0342\n"
     ]
    },
    {
     "name": "stderr",
     "output_type": "stream",
     "text": [
      " 30%|███       | 18/60 [00:32<01:23,  1.98s/it]"
     ]
    },
    {
     "name": "stdout",
     "output_type": "stream",
     "text": [
      "Precision@10: 0.2265, Hit@10: 0.5750\n",
      "Epoch 19, Loss: 63.5414\n"
     ]
    },
    {
     "name": "stderr",
     "output_type": "stream",
     "text": [
      " 32%|███▏      | 19/60 [00:34<01:25,  2.08s/it]"
     ]
    },
    {
     "name": "stdout",
     "output_type": "stream",
     "text": [
      "Precision@10: 0.2495, Hit@10: 0.5950\n",
      "Epoch 20, Loss: 57.5298\n"
     ]
    },
    {
     "name": "stderr",
     "output_type": "stream",
     "text": [
      " 33%|███▎      | 20/60 [00:36<01:23,  2.09s/it]"
     ]
    },
    {
     "name": "stdout",
     "output_type": "stream",
     "text": [
      "Precision@10: 0.2635, Hit@10: 0.6100\n",
      "Epoch 21, Loss: 53.2403\n"
     ]
    },
    {
     "name": "stderr",
     "output_type": "stream",
     "text": [
      " 35%|███▌      | 21/60 [00:38<01:24,  2.16s/it]"
     ]
    },
    {
     "name": "stdout",
     "output_type": "stream",
     "text": [
      "Precision@10: 0.2785, Hit@10: 0.6250\n",
      "Epoch 22, Loss: 49.6508\n"
     ]
    },
    {
     "name": "stderr",
     "output_type": "stream",
     "text": [
      " 37%|███▋      | 22/60 [00:41<01:25,  2.24s/it]"
     ]
    },
    {
     "name": "stdout",
     "output_type": "stream",
     "text": [
      "Precision@10: 0.3015, Hit@10: 0.6700\n",
      "Epoch 23, Loss: 46.3506\n"
     ]
    },
    {
     "name": "stderr",
     "output_type": "stream",
     "text": [
      " 38%|███▊      | 23/60 [00:43<01:23,  2.26s/it]"
     ]
    },
    {
     "name": "stdout",
     "output_type": "stream",
     "text": [
      "Precision@10: 0.3230, Hit@10: 0.6750\n",
      "Epoch 24, Loss: 42.9560\n"
     ]
    },
    {
     "name": "stderr",
     "output_type": "stream",
     "text": [
      " 40%|████      | 24/60 [00:46<01:22,  2.29s/it]"
     ]
    },
    {
     "name": "stdout",
     "output_type": "stream",
     "text": [
      "Precision@10: 0.3295, Hit@10: 0.6750\n",
      "Epoch 25, Loss: 40.6196\n"
     ]
    },
    {
     "name": "stderr",
     "output_type": "stream",
     "text": [
      " 42%|████▏     | 25/60 [00:48<01:22,  2.35s/it]"
     ]
    },
    {
     "name": "stdout",
     "output_type": "stream",
     "text": [
      "Precision@10: 0.3530, Hit@10: 0.6850\n",
      "Epoch 26, Loss: 39.0005\n"
     ]
    },
    {
     "name": "stderr",
     "output_type": "stream",
     "text": [
      " 43%|████▎     | 26/60 [00:50<01:20,  2.36s/it]"
     ]
    },
    {
     "name": "stdout",
     "output_type": "stream",
     "text": [
      "Precision@10: 0.3735, Hit@10: 0.7300\n",
      "Epoch 27, Loss: 34.6355\n"
     ]
    },
    {
     "name": "stderr",
     "output_type": "stream",
     "text": [
      " 45%|████▌     | 27/60 [00:53<01:19,  2.40s/it]"
     ]
    },
    {
     "name": "stdout",
     "output_type": "stream",
     "text": [
      "Precision@10: 0.3875, Hit@10: 0.7400\n",
      "Epoch 28, Loss: 33.4016\n"
     ]
    },
    {
     "name": "stderr",
     "output_type": "stream",
     "text": [
      " 47%|████▋     | 28/60 [00:55<01:17,  2.41s/it]"
     ]
    },
    {
     "name": "stdout",
     "output_type": "stream",
     "text": [
      "Precision@10: 0.3980, Hit@10: 0.7650\n",
      "Epoch 29, Loss: 31.0260\n"
     ]
    },
    {
     "name": "stderr",
     "output_type": "stream",
     "text": [
      " 48%|████▊     | 29/60 [00:58<01:15,  2.42s/it]"
     ]
    },
    {
     "name": "stdout",
     "output_type": "stream",
     "text": [
      "Precision@10: 0.4095, Hit@10: 0.7750\n",
      "Epoch 30, Loss: 28.8266\n"
     ]
    },
    {
     "name": "stderr",
     "output_type": "stream",
     "text": [
      " 50%|█████     | 30/60 [01:00<01:12,  2.43s/it]"
     ]
    },
    {
     "name": "stdout",
     "output_type": "stream",
     "text": [
      "Precision@10: 0.4225, Hit@10: 0.7650\n",
      "Epoch 31, Loss: 26.2909\n"
     ]
    },
    {
     "name": "stderr",
     "output_type": "stream",
     "text": [
      " 52%|█████▏    | 31/60 [01:03<01:11,  2.45s/it]"
     ]
    },
    {
     "name": "stdout",
     "output_type": "stream",
     "text": [
      "Precision@10: 0.4350, Hit@10: 0.7650\n",
      "Epoch 32, Loss: 24.0544\n"
     ]
    },
    {
     "name": "stderr",
     "output_type": "stream",
     "text": [
      " 53%|█████▎    | 32/60 [01:05<01:09,  2.47s/it]"
     ]
    },
    {
     "name": "stdout",
     "output_type": "stream",
     "text": [
      "Precision@10: 0.4455, Hit@10: 0.7700\n",
      "Epoch 33, Loss: 23.9475\n"
     ]
    },
    {
     "name": "stderr",
     "output_type": "stream",
     "text": [
      " 55%|█████▌    | 33/60 [01:07<01:04,  2.39s/it]"
     ]
    },
    {
     "name": "stdout",
     "output_type": "stream",
     "text": [
      "Precision@10: 0.4515, Hit@10: 0.7900\n",
      "Epoch 34, Loss: 22.6617\n"
     ]
    },
    {
     "name": "stderr",
     "output_type": "stream",
     "text": [
      " 57%|█████▋    | 34/60 [01:10<01:01,  2.35s/it]"
     ]
    },
    {
     "name": "stdout",
     "output_type": "stream",
     "text": [
      "Precision@10: 0.4645, Hit@10: 0.8100\n",
      "Epoch 35, Loss: 21.3647\n"
     ]
    },
    {
     "name": "stderr",
     "output_type": "stream",
     "text": [
      " 58%|█████▊    | 35/60 [01:12<00:57,  2.32s/it]"
     ]
    },
    {
     "name": "stdout",
     "output_type": "stream",
     "text": [
      "Precision@10: 0.4740, Hit@10: 0.8000\n",
      "Epoch 36, Loss: 21.0515\n"
     ]
    },
    {
     "name": "stderr",
     "output_type": "stream",
     "text": [
      " 60%|██████    | 36/60 [01:14<00:54,  2.25s/it]"
     ]
    },
    {
     "name": "stdout",
     "output_type": "stream",
     "text": [
      "Precision@10: 0.4875, Hit@10: 0.8150\n",
      "Epoch 37, Loss: 19.3491\n"
     ]
    },
    {
     "name": "stderr",
     "output_type": "stream",
     "text": [
      " 62%|██████▏   | 37/60 [01:16<00:50,  2.21s/it]"
     ]
    },
    {
     "name": "stdout",
     "output_type": "stream",
     "text": [
      "Precision@10: 0.4940, Hit@10: 0.8300\n",
      "Epoch 38, Loss: 17.1660\n"
     ]
    },
    {
     "name": "stderr",
     "output_type": "stream",
     "text": [
      " 63%|██████▎   | 38/60 [01:18<00:47,  2.17s/it]"
     ]
    },
    {
     "name": "stdout",
     "output_type": "stream",
     "text": [
      "Precision@10: 0.5070, Hit@10: 0.8350\n",
      "Epoch 39, Loss: 16.5165\n"
     ]
    },
    {
     "name": "stderr",
     "output_type": "stream",
     "text": [
      " 65%|██████▌   | 39/60 [01:20<00:44,  2.14s/it]"
     ]
    },
    {
     "name": "stdout",
     "output_type": "stream",
     "text": [
      "Precision@10: 0.5080, Hit@10: 0.8500\n",
      "Epoch 40, Loss: 14.9572\n"
     ]
    },
    {
     "name": "stderr",
     "output_type": "stream",
     "text": [
      " 67%|██████▋   | 40/60 [01:22<00:41,  2.09s/it]"
     ]
    },
    {
     "name": "stdout",
     "output_type": "stream",
     "text": [
      "Precision@10: 0.5100, Hit@10: 0.8450\n",
      "Epoch 41, Loss: 15.7382\n"
     ]
    },
    {
     "name": "stderr",
     "output_type": "stream",
     "text": [
      " 68%|██████▊   | 41/60 [01:24<00:38,  2.04s/it]"
     ]
    },
    {
     "name": "stdout",
     "output_type": "stream",
     "text": [
      "Precision@10: 0.5110, Hit@10: 0.8400\n",
      "Epoch 42, Loss: 14.4908\n"
     ]
    },
    {
     "name": "stderr",
     "output_type": "stream",
     "text": [
      " 70%|███████   | 42/60 [01:26<00:35,  2.00s/it]"
     ]
    },
    {
     "name": "stdout",
     "output_type": "stream",
     "text": [
      "Precision@10: 0.5105, Hit@10: 0.8350\n",
      "Epoch 43, Loss: 13.8201\n"
     ]
    },
    {
     "name": "stderr",
     "output_type": "stream",
     "text": [
      " 72%|███████▏  | 43/60 [01:28<00:33,  1.97s/it]"
     ]
    },
    {
     "name": "stdout",
     "output_type": "stream",
     "text": [
      "Precision@10: 0.5275, Hit@10: 0.8500\n",
      "Epoch 44, Loss: 12.9276\n"
     ]
    },
    {
     "name": "stderr",
     "output_type": "stream",
     "text": [
      " 73%|███████▎  | 44/60 [01:30<00:31,  1.95s/it]"
     ]
    },
    {
     "name": "stdout",
     "output_type": "stream",
     "text": [
      "Precision@10: 0.5395, Hit@10: 0.8550\n",
      "Epoch 45, Loss: 12.9565\n"
     ]
    },
    {
     "name": "stderr",
     "output_type": "stream",
     "text": [
      " 75%|███████▌  | 45/60 [01:32<00:28,  1.92s/it]"
     ]
    },
    {
     "name": "stdout",
     "output_type": "stream",
     "text": [
      "Precision@10: 0.5345, Hit@10: 0.8550\n",
      "Epoch 46, Loss: 12.3030\n"
     ]
    },
    {
     "name": "stderr",
     "output_type": "stream",
     "text": [
      " 77%|███████▋  | 46/60 [01:34<00:26,  1.91s/it]"
     ]
    },
    {
     "name": "stdout",
     "output_type": "stream",
     "text": [
      "Precision@10: 0.5490, Hit@10: 0.8700\n",
      "Epoch 47, Loss: 12.0391\n"
     ]
    },
    {
     "name": "stderr",
     "output_type": "stream",
     "text": [
      " 78%|███████▊  | 47/60 [01:36<00:24,  1.90s/it]"
     ]
    },
    {
     "name": "stdout",
     "output_type": "stream",
     "text": [
      "Precision@10: 0.5480, Hit@10: 0.8750\n",
      "Epoch 48, Loss: 11.2744\n"
     ]
    },
    {
     "name": "stderr",
     "output_type": "stream",
     "text": [
      " 80%|████████  | 48/60 [01:38<00:23,  1.92s/it]"
     ]
    },
    {
     "name": "stdout",
     "output_type": "stream",
     "text": [
      "Precision@10: 0.5480, Hit@10: 0.8850\n",
      "Epoch 49, Loss: 10.3618\n"
     ]
    },
    {
     "name": "stderr",
     "output_type": "stream",
     "text": [
      " 82%|████████▏ | 49/60 [01:39<00:21,  1.93s/it]"
     ]
    },
    {
     "name": "stdout",
     "output_type": "stream",
     "text": [
      "Precision@10: 0.5540, Hit@10: 0.8700\n",
      "Epoch 50, Loss: 11.5526\n"
     ]
    },
    {
     "name": "stderr",
     "output_type": "stream",
     "text": [
      " 83%|████████▎ | 50/60 [01:41<00:19,  1.96s/it]"
     ]
    },
    {
     "name": "stdout",
     "output_type": "stream",
     "text": [
      "Precision@10: 0.5605, Hit@10: 0.8600\n",
      "Epoch 51, Loss: 10.7261\n"
     ]
    },
    {
     "name": "stderr",
     "output_type": "stream",
     "text": [
      " 85%|████████▌ | 51/60 [01:44<00:17,  1.98s/it]"
     ]
    },
    {
     "name": "stdout",
     "output_type": "stream",
     "text": [
      "Precision@10: 0.5630, Hit@10: 0.8700\n",
      "Epoch 52, Loss: 9.5171\n"
     ]
    },
    {
     "name": "stderr",
     "output_type": "stream",
     "text": [
      " 87%|████████▋ | 52/60 [01:46<00:15,  1.99s/it]"
     ]
    },
    {
     "name": "stdout",
     "output_type": "stream",
     "text": [
      "Precision@10: 0.5630, Hit@10: 0.8750\n",
      "Epoch 53, Loss: 9.0884\n"
     ]
    },
    {
     "name": "stderr",
     "output_type": "stream",
     "text": [
      " 88%|████████▊ | 53/60 [01:48<00:13,  1.99s/it]"
     ]
    },
    {
     "name": "stdout",
     "output_type": "stream",
     "text": [
      "Precision@10: 0.5625, Hit@10: 0.8700\n",
      "Epoch 54, Loss: 9.5650\n"
     ]
    },
    {
     "name": "stderr",
     "output_type": "stream",
     "text": [
      " 90%|█████████ | 54/60 [01:50<00:12,  2.04s/it]"
     ]
    },
    {
     "name": "stdout",
     "output_type": "stream",
     "text": [
      "Precision@10: 0.5660, Hit@10: 0.8900\n",
      "Epoch 55, Loss: 8.9387\n"
     ]
    },
    {
     "name": "stderr",
     "output_type": "stream",
     "text": [
      " 92%|█████████▏| 55/60 [01:52<00:10,  2.02s/it]"
     ]
    },
    {
     "name": "stdout",
     "output_type": "stream",
     "text": [
      "Precision@10: 0.5695, Hit@10: 0.8800\n",
      "Epoch 56, Loss: 7.9246\n"
     ]
    },
    {
     "name": "stderr",
     "output_type": "stream",
     "text": [
      " 93%|█████████▎| 56/60 [01:54<00:08,  2.01s/it]"
     ]
    },
    {
     "name": "stdout",
     "output_type": "stream",
     "text": [
      "Precision@10: 0.5665, Hit@10: 0.8800\n",
      "Epoch 57, Loss: 7.6194\n"
     ]
    },
    {
     "name": "stderr",
     "output_type": "stream",
     "text": [
      " 95%|█████████▌| 57/60 [01:56<00:06,  2.01s/it]"
     ]
    },
    {
     "name": "stdout",
     "output_type": "stream",
     "text": [
      "Precision@10: 0.5715, Hit@10: 0.8750\n",
      "Epoch 58, Loss: 7.9499\n"
     ]
    },
    {
     "name": "stderr",
     "output_type": "stream",
     "text": [
      " 97%|█████████▋| 58/60 [01:58<00:03,  2.00s/it]"
     ]
    },
    {
     "name": "stdout",
     "output_type": "stream",
     "text": [
      "Precision@10: 0.5700, Hit@10: 0.8850\n",
      "Epoch 59, Loss: 8.0889\n"
     ]
    },
    {
     "name": "stderr",
     "output_type": "stream",
     "text": [
      " 98%|█████████▊| 59/60 [02:00<00:02,  2.02s/it]"
     ]
    },
    {
     "name": "stdout",
     "output_type": "stream",
     "text": [
      "Precision@10: 0.5815, Hit@10: 0.8950\n",
      "Epoch 60, Loss: 6.7164\n"
     ]
    },
    {
     "name": "stderr",
     "output_type": "stream",
     "text": [
      "100%|██████████| 60/60 [02:02<00:00,  2.04s/it]"
     ]
    },
    {
     "name": "stdout",
     "output_type": "stream",
     "text": [
      "Precision@10: 0.5915, Hit@10: 0.8900\n"
     ]
    },
    {
     "name": "stderr",
     "output_type": "stream",
     "text": [
      "\n"
     ]
    },
    {
     "name": "stdout",
     "output_type": "stream",
     "text": [
      "Precision@10: 0.5915, Hit@10: 0.8900\n"
     ]
    }
   ],
   "source": [
    "train_matrix, test_matrix = train_test_split(Mui_set, test_ratio=0.2)\n",
    "\n",
    "train_dataset = TrainingDataset(train_matrix, num_negatives=4)\n",
    "train_loader = DataLoader(train_dataset, batch_size=128, shuffle=True)\n",
    "\n",
    "num_users, num_items = train_matrix.shape\n",
    "model = MFModel(num_users, num_items, embedding_dim=64)\n",
    "\n",
    "\n",
    "train(model, train_loader, loss_type='BCE', epochs=60, lr=0.005)\n",
    "evaluate_precision_hit(model, test_matrix, train_matrix, k=10)"
   ]
  },
  {
   "cell_type": "code",
   "execution_count": 57,
   "metadata": {},
   "outputs": [
    {
     "name": "stdout",
     "output_type": "stream",
     "text": [
      "Precision@1: 0.7250, Hit@1: 0.7250\n",
      "Precision@5: 0.6370, Hit@5: 0.8550\n",
      "Precision@10: 0.5915, Hit@10: 0.8900\n"
     ]
    }
   ],
   "source": [
    "for k in [1, 5, 10]:\n",
    "    evaluate_precision_hit(model, test_matrix, train_matrix, k=k)"
   ]
  },
  {
   "cell_type": "code",
   "execution_count": 58,
   "metadata": {},
   "outputs": [
    {
     "name": "stderr",
     "output_type": "stream",
     "text": [
      "  0%|          | 0/60 [00:00<?, ?it/s]"
     ]
    },
    {
     "name": "stdout",
     "output_type": "stream",
     "text": [
      "Epoch 1, Loss: 1702.1675\n"
     ]
    },
    {
     "name": "stderr",
     "output_type": "stream",
     "text": [
      "  2%|▏         | 1/60 [00:02<02:17,  2.33s/it]"
     ]
    },
    {
     "name": "stdout",
     "output_type": "stream",
     "text": [
      "Precision@10: 0.0205, Hit@10: 0.1800\n",
      "Epoch 2, Loss: 1205.4785\n"
     ]
    },
    {
     "name": "stderr",
     "output_type": "stream",
     "text": [
      "  3%|▎         | 2/60 [00:04<02:09,  2.23s/it]"
     ]
    },
    {
     "name": "stdout",
     "output_type": "stream",
     "text": [
      "Precision@10: 0.0210, Hit@10: 0.1650\n",
      "Epoch 3, Loss: 813.1495\n"
     ]
    },
    {
     "name": "stderr",
     "output_type": "stream",
     "text": [
      "  5%|▌         | 3/60 [00:06<02:03,  2.17s/it]"
     ]
    },
    {
     "name": "stdout",
     "output_type": "stream",
     "text": [
      "Precision@10: 0.0660, Hit@10: 0.4450\n",
      "Epoch 4, Loss: 472.1925\n"
     ]
    },
    {
     "name": "stderr",
     "output_type": "stream",
     "text": [
      "  7%|▋         | 4/60 [00:08<02:00,  2.16s/it]"
     ]
    },
    {
     "name": "stdout",
     "output_type": "stream",
     "text": [
      "Precision@10: 0.2145, Hit@10: 0.7950\n",
      "Epoch 5, Loss: 269.2223\n"
     ]
    },
    {
     "name": "stderr",
     "output_type": "stream",
     "text": [
      "  8%|▊         | 5/60 [00:11<02:07,  2.31s/it]"
     ]
    },
    {
     "name": "stdout",
     "output_type": "stream",
     "text": [
      "Precision@10: 0.3710, Hit@10: 0.9350\n",
      "Epoch 6, Loss: 172.7213\n"
     ]
    },
    {
     "name": "stderr",
     "output_type": "stream",
     "text": [
      " 10%|█         | 6/60 [00:13<02:00,  2.24s/it]"
     ]
    },
    {
     "name": "stdout",
     "output_type": "stream",
     "text": [
      "Precision@10: 0.4325, Hit@10: 0.9400\n",
      "Epoch 7, Loss: 125.6383\n"
     ]
    },
    {
     "name": "stderr",
     "output_type": "stream",
     "text": [
      " 12%|█▏        | 7/60 [00:15<02:02,  2.31s/it]"
     ]
    },
    {
     "name": "stdout",
     "output_type": "stream",
     "text": [
      "Precision@10: 0.4745, Hit@10: 0.9700\n",
      "Epoch 8, Loss: 98.9466\n"
     ]
    },
    {
     "name": "stderr",
     "output_type": "stream",
     "text": [
      " 13%|█▎        | 8/60 [00:17<01:57,  2.25s/it]"
     ]
    },
    {
     "name": "stdout",
     "output_type": "stream",
     "text": [
      "Precision@10: 0.4885, Hit@10: 0.9800\n",
      "Epoch 9, Loss: 88.8875\n"
     ]
    },
    {
     "name": "stderr",
     "output_type": "stream",
     "text": [
      " 15%|█▌        | 9/60 [00:20<01:54,  2.25s/it]"
     ]
    },
    {
     "name": "stdout",
     "output_type": "stream",
     "text": [
      "Precision@10: 0.5100, Hit@10: 0.9750\n",
      "Epoch 10, Loss: 81.4239\n"
     ]
    },
    {
     "name": "stderr",
     "output_type": "stream",
     "text": [
      " 17%|█▋        | 10/60 [00:22<01:57,  2.34s/it]"
     ]
    },
    {
     "name": "stdout",
     "output_type": "stream",
     "text": [
      "Precision@10: 0.5145, Hit@10: 0.9750\n",
      "Epoch 11, Loss: 75.9306\n"
     ]
    },
    {
     "name": "stderr",
     "output_type": "stream",
     "text": [
      " 18%|█▊        | 11/60 [00:25<01:53,  2.31s/it]"
     ]
    },
    {
     "name": "stdout",
     "output_type": "stream",
     "text": [
      "Precision@10: 0.5260, Hit@10: 0.9750\n",
      "Epoch 12, Loss: 71.1281\n"
     ]
    },
    {
     "name": "stderr",
     "output_type": "stream",
     "text": [
      " 20%|██        | 12/60 [00:27<01:52,  2.33s/it]"
     ]
    },
    {
     "name": "stdout",
     "output_type": "stream",
     "text": [
      "Precision@10: 0.5485, Hit@10: 0.9800\n",
      "Epoch 13, Loss: 64.7656\n"
     ]
    },
    {
     "name": "stderr",
     "output_type": "stream",
     "text": [
      " 22%|██▏       | 13/60 [00:29<01:50,  2.36s/it]"
     ]
    },
    {
     "name": "stdout",
     "output_type": "stream",
     "text": [
      "Precision@10: 0.5965, Hit@10: 0.9900\n",
      "Epoch 14, Loss: 59.5694\n"
     ]
    },
    {
     "name": "stderr",
     "output_type": "stream",
     "text": [
      " 23%|██▎       | 14/60 [00:32<01:49,  2.38s/it]"
     ]
    },
    {
     "name": "stdout",
     "output_type": "stream",
     "text": [
      "Precision@10: 0.6195, Hit@10: 0.9850\n",
      "Epoch 15, Loss: 58.0995\n"
     ]
    },
    {
     "name": "stderr",
     "output_type": "stream",
     "text": [
      " 25%|██▌       | 15/60 [00:34<01:42,  2.28s/it]"
     ]
    },
    {
     "name": "stdout",
     "output_type": "stream",
     "text": [
      "Precision@10: 0.6585, Hit@10: 1.0000\n",
      "Epoch 16, Loss: 57.2237\n"
     ]
    },
    {
     "name": "stderr",
     "output_type": "stream",
     "text": [
      " 27%|██▋       | 16/60 [00:36<01:43,  2.34s/it]"
     ]
    },
    {
     "name": "stdout",
     "output_type": "stream",
     "text": [
      "Precision@10: 0.6920, Hit@10: 0.9950\n",
      "Epoch 17, Loss: 50.2826\n"
     ]
    },
    {
     "name": "stderr",
     "output_type": "stream",
     "text": [
      " 28%|██▊       | 17/60 [00:39<01:41,  2.37s/it]"
     ]
    },
    {
     "name": "stdout",
     "output_type": "stream",
     "text": [
      "Precision@10: 0.7235, Hit@10: 1.0000\n",
      "Epoch 18, Loss: 48.0875\n"
     ]
    },
    {
     "name": "stderr",
     "output_type": "stream",
     "text": [
      " 30%|███       | 18/60 [00:41<01:40,  2.39s/it]"
     ]
    },
    {
     "name": "stdout",
     "output_type": "stream",
     "text": [
      "Precision@10: 0.7430, Hit@10: 1.0000\n",
      "Epoch 19, Loss: 46.6355\n"
     ]
    },
    {
     "name": "stderr",
     "output_type": "stream",
     "text": [
      " 32%|███▏      | 19/60 [00:43<01:36,  2.36s/it]"
     ]
    },
    {
     "name": "stdout",
     "output_type": "stream",
     "text": [
      "Precision@10: 0.7650, Hit@10: 0.9950\n",
      "Epoch 20, Loss: 45.3006\n"
     ]
    },
    {
     "name": "stderr",
     "output_type": "stream",
     "text": [
      " 33%|███▎      | 20/60 [00:46<01:36,  2.41s/it]"
     ]
    },
    {
     "name": "stdout",
     "output_type": "stream",
     "text": [
      "Precision@10: 0.8000, Hit@10: 1.0000\n",
      "Epoch 21, Loss: 42.2354\n"
     ]
    },
    {
     "name": "stderr",
     "output_type": "stream",
     "text": [
      " 35%|███▌      | 21/60 [00:48<01:35,  2.44s/it]"
     ]
    },
    {
     "name": "stdout",
     "output_type": "stream",
     "text": [
      "Precision@10: 0.8175, Hit@10: 1.0000\n",
      "Epoch 22, Loss: 41.8227\n"
     ]
    },
    {
     "name": "stderr",
     "output_type": "stream",
     "text": [
      " 37%|███▋      | 22/60 [00:51<01:29,  2.36s/it]"
     ]
    },
    {
     "name": "stdout",
     "output_type": "stream",
     "text": [
      "Precision@10: 0.8440, Hit@10: 1.0000\n",
      "Epoch 23, Loss: 38.6956\n"
     ]
    },
    {
     "name": "stderr",
     "output_type": "stream",
     "text": [
      " 38%|███▊      | 23/60 [00:53<01:25,  2.30s/it]"
     ]
    },
    {
     "name": "stdout",
     "output_type": "stream",
     "text": [
      "Precision@10: 0.8475, Hit@10: 1.0000\n",
      "Epoch 24, Loss: 37.8123\n"
     ]
    },
    {
     "name": "stderr",
     "output_type": "stream",
     "text": [
      " 40%|████      | 24/60 [00:55<01:24,  2.34s/it]"
     ]
    },
    {
     "name": "stdout",
     "output_type": "stream",
     "text": [
      "Precision@10: 0.8695, Hit@10: 1.0000\n",
      "Epoch 25, Loss: 35.8258\n"
     ]
    },
    {
     "name": "stderr",
     "output_type": "stream",
     "text": [
      " 42%|████▏     | 25/60 [00:58<01:21,  2.33s/it]"
     ]
    },
    {
     "name": "stdout",
     "output_type": "stream",
     "text": [
      "Precision@10: 0.8785, Hit@10: 1.0000\n",
      "Epoch 26, Loss: 34.0460\n"
     ]
    },
    {
     "name": "stderr",
     "output_type": "stream",
     "text": [
      " 43%|████▎     | 26/60 [01:00<01:18,  2.30s/it]"
     ]
    },
    {
     "name": "stdout",
     "output_type": "stream",
     "text": [
      "Precision@10: 0.8975, Hit@10: 1.0000\n",
      "Epoch 27, Loss: 34.0362\n"
     ]
    },
    {
     "name": "stderr",
     "output_type": "stream",
     "text": [
      " 45%|████▌     | 27/60 [01:02<01:14,  2.26s/it]"
     ]
    },
    {
     "name": "stdout",
     "output_type": "stream",
     "text": [
      "Precision@10: 0.9025, Hit@10: 1.0000\n",
      "Epoch 28, Loss: 32.5738\n"
     ]
    },
    {
     "name": "stderr",
     "output_type": "stream",
     "text": [
      " 47%|████▋     | 28/60 [01:04<01:14,  2.34s/it]"
     ]
    },
    {
     "name": "stdout",
     "output_type": "stream",
     "text": [
      "Precision@10: 0.9100, Hit@10: 1.0000\n",
      "Epoch 29, Loss: 32.5317\n"
     ]
    },
    {
     "name": "stderr",
     "output_type": "stream",
     "text": [
      " 48%|████▊     | 29/60 [01:07<01:10,  2.28s/it]"
     ]
    },
    {
     "name": "stdout",
     "output_type": "stream",
     "text": [
      "Precision@10: 0.9185, Hit@10: 1.0000\n",
      "Epoch 30, Loss: 32.5863\n"
     ]
    },
    {
     "name": "stderr",
     "output_type": "stream",
     "text": [
      " 50%|█████     | 30/60 [01:09<01:11,  2.37s/it]"
     ]
    },
    {
     "name": "stdout",
     "output_type": "stream",
     "text": [
      "Precision@10: 0.9215, Hit@10: 1.0000\n",
      "Epoch 31, Loss: 29.9073\n"
     ]
    },
    {
     "name": "stderr",
     "output_type": "stream",
     "text": [
      " 52%|█████▏    | 31/60 [01:11<01:06,  2.30s/it]"
     ]
    },
    {
     "name": "stdout",
     "output_type": "stream",
     "text": [
      "Precision@10: 0.9305, Hit@10: 1.0000\n",
      "Epoch 32, Loss: 28.8893\n"
     ]
    },
    {
     "name": "stderr",
     "output_type": "stream",
     "text": [
      " 53%|█████▎    | 32/60 [01:13<01:03,  2.26s/it]"
     ]
    },
    {
     "name": "stdout",
     "output_type": "stream",
     "text": [
      "Precision@10: 0.9395, Hit@10: 1.0000\n",
      "Epoch 33, Loss: 28.1028\n"
     ]
    },
    {
     "name": "stderr",
     "output_type": "stream",
     "text": [
      " 55%|█████▌    | 33/60 [01:16<01:02,  2.32s/it]"
     ]
    },
    {
     "name": "stdout",
     "output_type": "stream",
     "text": [
      "Precision@10: 0.9320, Hit@10: 1.0000\n",
      "Epoch 34, Loss: 28.0944\n"
     ]
    },
    {
     "name": "stderr",
     "output_type": "stream",
     "text": [
      " 57%|█████▋    | 34/60 [01:19<01:02,  2.42s/it]"
     ]
    },
    {
     "name": "stdout",
     "output_type": "stream",
     "text": [
      "Precision@10: 0.9420, Hit@10: 1.0000\n",
      "Epoch 35, Loss: 27.7336\n"
     ]
    },
    {
     "name": "stderr",
     "output_type": "stream",
     "text": [
      " 58%|█████▊    | 35/60 [01:21<00:59,  2.37s/it]"
     ]
    },
    {
     "name": "stdout",
     "output_type": "stream",
     "text": [
      "Precision@10: 0.9465, Hit@10: 1.0000\n",
      "Epoch 36, Loss: 25.9016\n"
     ]
    },
    {
     "name": "stderr",
     "output_type": "stream",
     "text": [
      " 60%|██████    | 36/60 [01:23<00:58,  2.44s/it]"
     ]
    },
    {
     "name": "stdout",
     "output_type": "stream",
     "text": [
      "Precision@10: 0.9435, Hit@10: 1.0000\n",
      "Epoch 37, Loss: 26.1441\n"
     ]
    },
    {
     "name": "stderr",
     "output_type": "stream",
     "text": [
      " 62%|██████▏   | 37/60 [01:26<00:54,  2.37s/it]"
     ]
    },
    {
     "name": "stdout",
     "output_type": "stream",
     "text": [
      "Precision@10: 0.9485, Hit@10: 1.0000\n",
      "Epoch 38, Loss: 26.3417\n"
     ]
    },
    {
     "name": "stderr",
     "output_type": "stream",
     "text": [
      " 63%|██████▎   | 38/60 [01:28<00:51,  2.36s/it]"
     ]
    },
    {
     "name": "stdout",
     "output_type": "stream",
     "text": [
      "Precision@10: 0.9495, Hit@10: 1.0000\n",
      "Epoch 39, Loss: 23.5848\n"
     ]
    },
    {
     "name": "stderr",
     "output_type": "stream",
     "text": [
      " 65%|██████▌   | 39/60 [01:30<00:48,  2.32s/it]"
     ]
    },
    {
     "name": "stdout",
     "output_type": "stream",
     "text": [
      "Precision@10: 0.9500, Hit@10: 1.0000\n",
      "Epoch 40, Loss: 26.7916\n"
     ]
    },
    {
     "name": "stderr",
     "output_type": "stream",
     "text": [
      " 67%|██████▋   | 40/60 [01:33<00:46,  2.33s/it]"
     ]
    },
    {
     "name": "stdout",
     "output_type": "stream",
     "text": [
      "Precision@10: 0.9500, Hit@10: 1.0000\n",
      "Epoch 41, Loss: 24.3986\n"
     ]
    },
    {
     "name": "stderr",
     "output_type": "stream",
     "text": [
      " 68%|██████▊   | 41/60 [01:35<00:45,  2.39s/it]"
     ]
    },
    {
     "name": "stdout",
     "output_type": "stream",
     "text": [
      "Precision@10: 0.9595, Hit@10: 1.0000\n",
      "Epoch 42, Loss: 24.8844\n"
     ]
    },
    {
     "name": "stderr",
     "output_type": "stream",
     "text": [
      " 70%|███████   | 42/60 [01:38<00:43,  2.43s/it]"
     ]
    },
    {
     "name": "stdout",
     "output_type": "stream",
     "text": [
      "Precision@10: 0.9530, Hit@10: 1.0000\n",
      "Epoch 43, Loss: 24.9878\n"
     ]
    },
    {
     "name": "stderr",
     "output_type": "stream",
     "text": [
      " 72%|███████▏  | 43/60 [01:40<00:40,  2.38s/it]"
     ]
    },
    {
     "name": "stdout",
     "output_type": "stream",
     "text": [
      "Precision@10: 0.9565, Hit@10: 1.0000\n",
      "Epoch 44, Loss: 25.4858\n"
     ]
    },
    {
     "name": "stderr",
     "output_type": "stream",
     "text": [
      " 73%|███████▎  | 44/60 [01:43<00:39,  2.45s/it]"
     ]
    },
    {
     "name": "stdout",
     "output_type": "stream",
     "text": [
      "Precision@10: 0.9575, Hit@10: 1.0000\n",
      "Epoch 45, Loss: 24.9379\n"
     ]
    },
    {
     "name": "stderr",
     "output_type": "stream",
     "text": [
      " 75%|███████▌  | 45/60 [01:45<00:37,  2.52s/it]"
     ]
    },
    {
     "name": "stdout",
     "output_type": "stream",
     "text": [
      "Precision@10: 0.9550, Hit@10: 1.0000\n",
      "Epoch 46, Loss: 24.2371\n"
     ]
    },
    {
     "name": "stderr",
     "output_type": "stream",
     "text": [
      " 77%|███████▋  | 46/60 [01:48<00:34,  2.48s/it]"
     ]
    },
    {
     "name": "stdout",
     "output_type": "stream",
     "text": [
      "Precision@10: 0.9535, Hit@10: 1.0000\n",
      "Epoch 47, Loss: 24.3298\n"
     ]
    },
    {
     "name": "stderr",
     "output_type": "stream",
     "text": [
      " 78%|███████▊  | 47/60 [01:50<00:32,  2.50s/it]"
     ]
    },
    {
     "name": "stdout",
     "output_type": "stream",
     "text": [
      "Precision@10: 0.9585, Hit@10: 1.0000\n",
      "Epoch 48, Loss: 22.3502\n"
     ]
    },
    {
     "name": "stderr",
     "output_type": "stream",
     "text": [
      " 80%|████████  | 48/60 [01:53<00:30,  2.51s/it]"
     ]
    },
    {
     "name": "stdout",
     "output_type": "stream",
     "text": [
      "Precision@10: 0.9645, Hit@10: 1.0000\n",
      "Epoch 49, Loss: 22.7647\n"
     ]
    },
    {
     "name": "stderr",
     "output_type": "stream",
     "text": [
      " 82%|████████▏ | 49/60 [01:55<00:27,  2.48s/it]"
     ]
    },
    {
     "name": "stdout",
     "output_type": "stream",
     "text": [
      "Precision@10: 0.9685, Hit@10: 1.0000\n",
      "Epoch 50, Loss: 23.4127\n"
     ]
    },
    {
     "name": "stderr",
     "output_type": "stream",
     "text": [
      " 83%|████████▎ | 50/60 [01:57<00:24,  2.43s/it]"
     ]
    },
    {
     "name": "stdout",
     "output_type": "stream",
     "text": [
      "Precision@10: 0.9705, Hit@10: 1.0000\n",
      "Epoch 51, Loss: 22.9395\n"
     ]
    },
    {
     "name": "stderr",
     "output_type": "stream",
     "text": [
      " 85%|████████▌ | 51/60 [02:00<00:22,  2.46s/it]"
     ]
    },
    {
     "name": "stdout",
     "output_type": "stream",
     "text": [
      "Precision@10: 0.9635, Hit@10: 1.0000\n",
      "Epoch 52, Loss: 21.2622\n"
     ]
    },
    {
     "name": "stderr",
     "output_type": "stream",
     "text": [
      " 87%|████████▋ | 52/60 [02:02<00:19,  2.38s/it]"
     ]
    },
    {
     "name": "stdout",
     "output_type": "stream",
     "text": [
      "Precision@10: 0.9670, Hit@10: 1.0000\n",
      "Epoch 53, Loss: 22.1987\n"
     ]
    },
    {
     "name": "stderr",
     "output_type": "stream",
     "text": [
      " 88%|████████▊ | 53/60 [02:04<00:16,  2.32s/it]"
     ]
    },
    {
     "name": "stdout",
     "output_type": "stream",
     "text": [
      "Precision@10: 0.9630, Hit@10: 1.0000\n",
      "Epoch 54, Loss: 22.3381\n"
     ]
    },
    {
     "name": "stderr",
     "output_type": "stream",
     "text": [
      " 90%|█████████ | 54/60 [02:06<00:13,  2.28s/it]"
     ]
    },
    {
     "name": "stdout",
     "output_type": "stream",
     "text": [
      "Precision@10: 0.9630, Hit@10: 1.0000\n",
      "Epoch 55, Loss: 21.9852\n"
     ]
    },
    {
     "name": "stderr",
     "output_type": "stream",
     "text": [
      " 92%|█████████▏| 55/60 [02:09<00:11,  2.38s/it]"
     ]
    },
    {
     "name": "stdout",
     "output_type": "stream",
     "text": [
      "Precision@10: 0.9595, Hit@10: 1.0000\n",
      "Epoch 56, Loss: 22.1762\n"
     ]
    },
    {
     "name": "stderr",
     "output_type": "stream",
     "text": [
      " 93%|█████████▎| 56/60 [02:11<00:09,  2.32s/it]"
     ]
    },
    {
     "name": "stdout",
     "output_type": "stream",
     "text": [
      "Precision@10: 0.9580, Hit@10: 1.0000\n",
      "Epoch 57, Loss: 20.9357\n"
     ]
    },
    {
     "name": "stderr",
     "output_type": "stream",
     "text": [
      " 95%|█████████▌| 57/60 [02:14<00:06,  2.30s/it]"
     ]
    },
    {
     "name": "stdout",
     "output_type": "stream",
     "text": [
      "Precision@10: 0.9595, Hit@10: 1.0000\n",
      "Epoch 58, Loss: 20.6624\n"
     ]
    },
    {
     "name": "stderr",
     "output_type": "stream",
     "text": [
      " 97%|█████████▋| 58/60 [02:16<00:04,  2.29s/it]"
     ]
    },
    {
     "name": "stdout",
     "output_type": "stream",
     "text": [
      "Precision@10: 0.9635, Hit@10: 1.0000\n",
      "Epoch 59, Loss: 22.2179\n"
     ]
    },
    {
     "name": "stderr",
     "output_type": "stream",
     "text": [
      " 98%|█████████▊| 59/60 [02:19<00:02,  2.46s/it]"
     ]
    },
    {
     "name": "stdout",
     "output_type": "stream",
     "text": [
      "Precision@10: 0.9670, Hit@10: 1.0000\n",
      "Epoch 60, Loss: 19.0214\n"
     ]
    },
    {
     "name": "stderr",
     "output_type": "stream",
     "text": [
      "100%|██████████| 60/60 [02:21<00:00,  2.36s/it]"
     ]
    },
    {
     "name": "stdout",
     "output_type": "stream",
     "text": [
      "Precision@10: 0.9650, Hit@10: 1.0000\n"
     ]
    },
    {
     "name": "stderr",
     "output_type": "stream",
     "text": [
      "\n"
     ]
    },
    {
     "name": "stdout",
     "output_type": "stream",
     "text": [
      "Precision@10: 0.9650, Hit@10: 1.0000\n"
     ]
    }
   ],
   "source": [
    "train_matrix, test_matrix = train_test_split(Mui_dot, test_ratio=0.2)\n",
    "\n",
    "train_dataset = TrainingDataset(train_matrix, num_negatives=4)\n",
    "train_loader = DataLoader(train_dataset, batch_size=128, shuffle=True)\n",
    "\n",
    "num_users, num_items = train_matrix.shape\n",
    "model = MFModel(num_users, num_items, embedding_dim=64)\n",
    "\n",
    "\n",
    "train(model, train_loader, loss_type='BCE', epochs=60, lr=0.005)\n",
    "evaluate_precision_hit(model, test_matrix, train_matrix, k=10)"
   ]
  },
  {
   "cell_type": "code",
   "execution_count": 59,
   "metadata": {},
   "outputs": [
    {
     "name": "stdout",
     "output_type": "stream",
     "text": [
      "Precision@1: 0.9900, Hit@1: 0.9900\n",
      "Precision@5: 0.9780, Hit@5: 1.0000\n",
      "Precision@10: 0.9650, Hit@10: 1.0000\n"
     ]
    }
   ],
   "source": [
    "for k in [1, 5, 10]:\n",
    "    evaluate_precision_hit(model, test_matrix, train_matrix, k=k)"
   ]
  },
  {
   "cell_type": "code",
   "execution_count": 53,
   "metadata": {},
   "outputs": [],
   "source": [
    "# let's create the box intersection model\n",
    "import torch\n",
    "import torch.nn as nn\n",
    "from box.box_wrapper import BoxTensor\n",
    "\n",
    "class BoxIntersectionModel(nn.Module):\n",
    "    def __init__(self,\n",
    "                 num_users,\n",
    "                 num_items,\n",
    "                 embedding_dim=32,\n",
    "                 intersection_temp=0.01,\n",
    "                 volume_temp= 0.1):\n",
    "        \n",
    "        super().__init__()\n",
    "        self.user_emb = nn.Embedding(num_users, 2 * embedding_dim)  # z and Z for each user\n",
    "        self.item_emb = nn.Embedding(num_items, 2 * embedding_dim)  # z and Z for each item\n",
    "        self.embedding_dim = embedding_dim\n",
    "        self.intersection_temp = intersection_temp\n",
    "        self.volume_temp = volume_temp\n",
    "\n",
    "    def forward(self, user_idx, item_idx):\n",
    "        # Get user and item box parameters\n",
    "        user_box_params = self.user_emb(user_idx).view(-1, 2, self.embedding_dim)\n",
    "        item_box_params = self.item_emb(item_idx).view(-1, 2, self.embedding_dim)\n",
    "        user_box = BoxTensor(user_box_params)\n",
    "        item_box = BoxTensor(item_box_params)\n",
    "        # Compute intersection volume (as a score)\n",
    "        intersection_vol = user_box.gumbel_intersection_log_volume(item_box, \n",
    "                                                                 volume_temp=self.volume_temp,\n",
    "                                                                 intersection_temp=self.intersection_temp)\n",
    "        item_vol = item_box.log_soft_volume_adjusted(volume_temp=self.volume_temp,\n",
    "                                                      intersection_temp=self.intersection_temp)\n",
    "        conditional_prob = intersection_vol - item_vol\n",
    "        assert (conditional_prob <= 0).all(), \"Log probability can not be positive\"\n",
    "        return conditional_prob"
   ]
  },
  {
   "cell_type": "code",
   "execution_count": 54,
   "metadata": {},
   "outputs": [
    {
     "name": "stdout",
     "output_type": "stream",
     "text": [
      "Dimension: 64\n"
     ]
    },
    {
     "name": "stderr",
     "output_type": "stream",
     "text": [
      "  0%|          | 0/60 [00:00<?, ?it/s]"
     ]
    },
    {
     "name": "stdout",
     "output_type": "stream",
     "text": [
      "Epoch 1, Loss: 54814.9089\n"
     ]
    },
    {
     "name": "stderr",
     "output_type": "stream",
     "text": [
      "  2%|▏         | 1/60 [00:04<04:04,  4.14s/it]"
     ]
    },
    {
     "name": "stdout",
     "output_type": "stream",
     "text": [
      "Precision@10: 0.0960, Hit@10: 0.5000\n",
      "Epoch 2, Loss: 24915.1379\n"
     ]
    },
    {
     "name": "stderr",
     "output_type": "stream",
     "text": [
      "  3%|▎         | 2/60 [00:08<04:07,  4.27s/it]"
     ]
    },
    {
     "name": "stdout",
     "output_type": "stream",
     "text": [
      "Precision@10: 0.0945, Hit@10: 0.5200\n",
      "Epoch 3, Loss: 21316.0685\n"
     ]
    },
    {
     "name": "stderr",
     "output_type": "stream",
     "text": [
      "  5%|▌         | 3/60 [00:12<03:55,  4.12s/it]"
     ]
    },
    {
     "name": "stdout",
     "output_type": "stream",
     "text": [
      "Precision@10: 0.1065, Hit@10: 0.5500\n",
      "Epoch 4, Loss: 19114.1754\n"
     ]
    },
    {
     "name": "stderr",
     "output_type": "stream",
     "text": [
      "  7%|▋         | 4/60 [00:16<03:39,  3.93s/it]"
     ]
    },
    {
     "name": "stdout",
     "output_type": "stream",
     "text": [
      "Precision@10: 0.1125, Hit@10: 0.5450\n",
      "Epoch 5, Loss: 17398.0447\n"
     ]
    },
    {
     "name": "stderr",
     "output_type": "stream",
     "text": [
      "  8%|▊         | 5/60 [00:19<03:32,  3.86s/it]"
     ]
    },
    {
     "name": "stdout",
     "output_type": "stream",
     "text": [
      "Precision@10: 0.1465, Hit@10: 0.6100\n",
      "Epoch 6, Loss: 15775.1014\n"
     ]
    },
    {
     "name": "stderr",
     "output_type": "stream",
     "text": [
      " 10%|█         | 6/60 [00:23<03:31,  3.91s/it]"
     ]
    },
    {
     "name": "stdout",
     "output_type": "stream",
     "text": [
      "Precision@10: 0.1575, Hit@10: 0.6150\n",
      "Epoch 7, Loss: 14223.9639\n"
     ]
    },
    {
     "name": "stderr",
     "output_type": "stream",
     "text": [
      " 12%|█▏        | 7/60 [00:27<03:23,  3.84s/it]"
     ]
    },
    {
     "name": "stdout",
     "output_type": "stream",
     "text": [
      "Precision@10: 0.1910, Hit@10: 0.6600\n",
      "Epoch 8, Loss: 12975.5691\n"
     ]
    },
    {
     "name": "stderr",
     "output_type": "stream",
     "text": [
      " 13%|█▎        | 8/60 [00:31<03:16,  3.78s/it]"
     ]
    },
    {
     "name": "stdout",
     "output_type": "stream",
     "text": [
      "Precision@10: 0.2275, Hit@10: 0.6950\n",
      "Epoch 9, Loss: 11757.5804\n"
     ]
    },
    {
     "name": "stderr",
     "output_type": "stream",
     "text": [
      " 15%|█▌        | 9/60 [00:35<03:13,  3.80s/it]"
     ]
    },
    {
     "name": "stdout",
     "output_type": "stream",
     "text": [
      "Precision@10: 0.2705, Hit@10: 0.7250\n",
      "Epoch 10, Loss: 10918.2717\n"
     ]
    },
    {
     "name": "stderr",
     "output_type": "stream",
     "text": [
      " 17%|█▋        | 10/60 [00:38<03:11,  3.83s/it]"
     ]
    },
    {
     "name": "stdout",
     "output_type": "stream",
     "text": [
      "Precision@10: 0.2940, Hit@10: 0.7350\n",
      "Epoch 11, Loss: 10094.5109\n"
     ]
    },
    {
     "name": "stderr",
     "output_type": "stream",
     "text": [
      " 18%|█▊        | 11/60 [00:42<03:06,  3.81s/it]"
     ]
    },
    {
     "name": "stdout",
     "output_type": "stream",
     "text": [
      "Precision@10: 0.3405, Hit@10: 0.7750\n",
      "Epoch 12, Loss: 9512.2625\n"
     ]
    },
    {
     "name": "stderr",
     "output_type": "stream",
     "text": [
      " 20%|██        | 12/60 [00:47<03:18,  4.13s/it]"
     ]
    },
    {
     "name": "stdout",
     "output_type": "stream",
     "text": [
      "Precision@10: 0.3730, Hit@10: 0.7900\n",
      "Epoch 13, Loss: 8805.0569\n"
     ]
    },
    {
     "name": "stderr",
     "output_type": "stream",
     "text": [
      " 22%|██▏       | 13/60 [00:53<03:34,  4.56s/it]"
     ]
    },
    {
     "name": "stdout",
     "output_type": "stream",
     "text": [
      "Precision@10: 0.4040, Hit@10: 0.8200\n",
      "Epoch 14, Loss: 8175.1623\n"
     ]
    },
    {
     "name": "stderr",
     "output_type": "stream",
     "text": [
      " 23%|██▎       | 14/60 [00:59<03:51,  5.03s/it]"
     ]
    },
    {
     "name": "stdout",
     "output_type": "stream",
     "text": [
      "Precision@10: 0.4255, Hit@10: 0.8300\n",
      "Epoch 15, Loss: 7694.1161\n"
     ]
    },
    {
     "name": "stderr",
     "output_type": "stream",
     "text": [
      " 25%|██▌       | 15/60 [01:04<03:56,  5.26s/it]"
     ]
    },
    {
     "name": "stdout",
     "output_type": "stream",
     "text": [
      "Precision@10: 0.4545, Hit@10: 0.8450\n",
      "Epoch 16, Loss: 7431.8689\n"
     ]
    },
    {
     "name": "stderr",
     "output_type": "stream",
     "text": [
      " 27%|██▋       | 16/60 [01:10<03:59,  5.44s/it]"
     ]
    },
    {
     "name": "stdout",
     "output_type": "stream",
     "text": [
      "Precision@10: 0.4770, Hit@10: 0.8500\n",
      "Epoch 17, Loss: 6918.0623\n"
     ]
    },
    {
     "name": "stderr",
     "output_type": "stream",
     "text": [
      " 28%|██▊       | 17/60 [01:16<03:57,  5.53s/it]"
     ]
    },
    {
     "name": "stdout",
     "output_type": "stream",
     "text": [
      "Precision@10: 0.4930, Hit@10: 0.8400\n",
      "Epoch 18, Loss: 6453.3119\n"
     ]
    },
    {
     "name": "stderr",
     "output_type": "stream",
     "text": [
      " 30%|███       | 18/60 [01:22<03:57,  5.65s/it]"
     ]
    },
    {
     "name": "stdout",
     "output_type": "stream",
     "text": [
      "Precision@10: 0.5090, Hit@10: 0.8450\n",
      "Epoch 19, Loss: 6539.6733\n"
     ]
    },
    {
     "name": "stderr",
     "output_type": "stream",
     "text": [
      " 32%|███▏      | 19/60 [01:27<03:48,  5.57s/it]"
     ]
    },
    {
     "name": "stdout",
     "output_type": "stream",
     "text": [
      "Precision@10: 0.5180, Hit@10: 0.8650\n",
      "Epoch 20, Loss: 6114.9664\n"
     ]
    },
    {
     "name": "stderr",
     "output_type": "stream",
     "text": [
      " 33%|███▎      | 20/60 [01:33<03:38,  5.46s/it]"
     ]
    },
    {
     "name": "stdout",
     "output_type": "stream",
     "text": [
      "Precision@10: 0.5395, Hit@10: 0.8650\n",
      "Epoch 21, Loss: 5850.4320\n"
     ]
    },
    {
     "name": "stderr",
     "output_type": "stream",
     "text": [
      " 35%|███▌      | 21/60 [01:38<03:33,  5.46s/it]"
     ]
    },
    {
     "name": "stdout",
     "output_type": "stream",
     "text": [
      "Precision@10: 0.5520, Hit@10: 0.9000\n",
      "Epoch 22, Loss: 5532.3292\n"
     ]
    },
    {
     "name": "stderr",
     "output_type": "stream",
     "text": [
      " 37%|███▋      | 22/60 [01:43<03:19,  5.25s/it]"
     ]
    },
    {
     "name": "stdout",
     "output_type": "stream",
     "text": [
      "Precision@10: 0.5765, Hit@10: 0.9100\n",
      "Epoch 23, Loss: 5402.4907\n"
     ]
    },
    {
     "name": "stderr",
     "output_type": "stream",
     "text": [
      " 38%|███▊      | 23/60 [01:48<03:08,  5.11s/it]"
     ]
    },
    {
     "name": "stdout",
     "output_type": "stream",
     "text": [
      "Precision@10: 0.5935, Hit@10: 0.9100\n",
      "Epoch 24, Loss: 5313.2006\n"
     ]
    },
    {
     "name": "stderr",
     "output_type": "stream",
     "text": [
      " 40%|████      | 24/60 [01:52<02:57,  4.94s/it]"
     ]
    },
    {
     "name": "stdout",
     "output_type": "stream",
     "text": [
      "Precision@10: 0.5970, Hit@10: 0.9150\n",
      "Epoch 25, Loss: 4985.6069\n"
     ]
    },
    {
     "name": "stderr",
     "output_type": "stream",
     "text": [
      " 42%|████▏     | 25/60 [01:57<02:47,  4.78s/it]"
     ]
    },
    {
     "name": "stdout",
     "output_type": "stream",
     "text": [
      "Precision@10: 0.6075, Hit@10: 0.9250\n",
      "Epoch 26, Loss: 4873.8665\n"
     ]
    },
    {
     "name": "stderr",
     "output_type": "stream",
     "text": [
      " 43%|████▎     | 26/60 [02:01<02:37,  4.64s/it]"
     ]
    },
    {
     "name": "stdout",
     "output_type": "stream",
     "text": [
      "Precision@10: 0.6195, Hit@10: 0.9300\n",
      "Epoch 27, Loss: 4903.1063\n"
     ]
    },
    {
     "name": "stderr",
     "output_type": "stream",
     "text": [
      " 45%|████▌     | 27/60 [02:05<02:30,  4.57s/it]"
     ]
    },
    {
     "name": "stdout",
     "output_type": "stream",
     "text": [
      "Precision@10: 0.6230, Hit@10: 0.9250\n",
      "Epoch 28, Loss: 4466.3322\n"
     ]
    },
    {
     "name": "stderr",
     "output_type": "stream",
     "text": [
      " 47%|████▋     | 28/60 [02:10<02:24,  4.52s/it]"
     ]
    },
    {
     "name": "stdout",
     "output_type": "stream",
     "text": [
      "Precision@10: 0.6255, Hit@10: 0.9250\n",
      "Epoch 29, Loss: 4477.8775\n"
     ]
    },
    {
     "name": "stderr",
     "output_type": "stream",
     "text": [
      " 48%|████▊     | 29/60 [02:14<02:18,  4.46s/it]"
     ]
    },
    {
     "name": "stdout",
     "output_type": "stream",
     "text": [
      "Precision@10: 0.6390, Hit@10: 0.9400\n",
      "Epoch 30, Loss: 4328.6484\n"
     ]
    },
    {
     "name": "stderr",
     "output_type": "stream",
     "text": [
      " 50%|█████     | 30/60 [02:18<02:13,  4.44s/it]"
     ]
    },
    {
     "name": "stdout",
     "output_type": "stream",
     "text": [
      "Precision@10: 0.6400, Hit@10: 0.9400\n",
      "Epoch 31, Loss: 4339.9168\n"
     ]
    },
    {
     "name": "stderr",
     "output_type": "stream",
     "text": [
      " 52%|█████▏    | 31/60 [02:23<02:07,  4.40s/it]"
     ]
    },
    {
     "name": "stdout",
     "output_type": "stream",
     "text": [
      "Precision@10: 0.6395, Hit@10: 0.9300\n",
      "Epoch 32, Loss: 4214.1159\n"
     ]
    },
    {
     "name": "stderr",
     "output_type": "stream",
     "text": [
      " 53%|█████▎    | 32/60 [02:27<02:04,  4.43s/it]"
     ]
    },
    {
     "name": "stdout",
     "output_type": "stream",
     "text": [
      "Precision@10: 0.6600, Hit@10: 0.9400\n",
      "Epoch 33, Loss: 4163.5623\n"
     ]
    },
    {
     "name": "stderr",
     "output_type": "stream",
     "text": [
      " 55%|█████▌    | 33/60 [02:32<02:05,  4.66s/it]"
     ]
    },
    {
     "name": "stdout",
     "output_type": "stream",
     "text": [
      "Precision@10: 0.6660, Hit@10: 0.9350\n",
      "Epoch 34, Loss: 3784.4100\n"
     ]
    },
    {
     "name": "stderr",
     "output_type": "stream",
     "text": [
      " 57%|█████▋    | 34/60 [02:37<02:03,  4.75s/it]"
     ]
    },
    {
     "name": "stdout",
     "output_type": "stream",
     "text": [
      "Precision@10: 0.6795, Hit@10: 0.9500\n",
      "Epoch 35, Loss: 3653.8826\n"
     ]
    },
    {
     "name": "stderr",
     "output_type": "stream",
     "text": [
      " 58%|█████▊    | 35/60 [02:42<02:00,  4.80s/it]"
     ]
    },
    {
     "name": "stdout",
     "output_type": "stream",
     "text": [
      "Precision@10: 0.6780, Hit@10: 0.9400\n",
      "Epoch 36, Loss: 3654.1532\n"
     ]
    },
    {
     "name": "stderr",
     "output_type": "stream",
     "text": [
      " 60%|██████    | 36/60 [02:47<01:54,  4.76s/it]"
     ]
    },
    {
     "name": "stdout",
     "output_type": "stream",
     "text": [
      "Precision@10: 0.6850, Hit@10: 0.9550\n",
      "Epoch 37, Loss: 3429.3321\n"
     ]
    },
    {
     "name": "stderr",
     "output_type": "stream",
     "text": [
      " 62%|██████▏   | 37/60 [02:52<01:51,  4.85s/it]"
     ]
    },
    {
     "name": "stdout",
     "output_type": "stream",
     "text": [
      "Precision@10: 0.6885, Hit@10: 0.9550\n",
      "Epoch 38, Loss: 3740.4648\n"
     ]
    },
    {
     "name": "stderr",
     "output_type": "stream",
     "text": [
      " 63%|██████▎   | 38/60 [02:57<01:46,  4.82s/it]"
     ]
    },
    {
     "name": "stdout",
     "output_type": "stream",
     "text": [
      "Precision@10: 0.6975, Hit@10: 0.9550\n",
      "Epoch 39, Loss: 3669.5952\n"
     ]
    },
    {
     "name": "stderr",
     "output_type": "stream",
     "text": [
      " 65%|██████▌   | 39/60 [03:01<01:40,  4.78s/it]"
     ]
    },
    {
     "name": "stdout",
     "output_type": "stream",
     "text": [
      "Precision@10: 0.6970, Hit@10: 0.9550\n",
      "Epoch 40, Loss: 3237.2054\n"
     ]
    },
    {
     "name": "stderr",
     "output_type": "stream",
     "text": [
      " 67%|██████▋   | 40/60 [03:06<01:35,  4.76s/it]"
     ]
    },
    {
     "name": "stdout",
     "output_type": "stream",
     "text": [
      "Precision@10: 0.7025, Hit@10: 0.9600\n",
      "Epoch 41, Loss: 3105.9227\n"
     ]
    },
    {
     "name": "stderr",
     "output_type": "stream",
     "text": [
      " 68%|██████▊   | 41/60 [03:11<01:28,  4.68s/it]"
     ]
    },
    {
     "name": "stdout",
     "output_type": "stream",
     "text": [
      "Precision@10: 0.7050, Hit@10: 0.9500\n",
      "Epoch 42, Loss: 3087.6830\n"
     ]
    },
    {
     "name": "stderr",
     "output_type": "stream",
     "text": [
      " 70%|███████   | 42/60 [03:15<01:22,  4.60s/it]"
     ]
    },
    {
     "name": "stdout",
     "output_type": "stream",
     "text": [
      "Precision@10: 0.7000, Hit@10: 0.9650\n",
      "Epoch 43, Loss: 2973.5181\n"
     ]
    },
    {
     "name": "stderr",
     "output_type": "stream",
     "text": [
      " 72%|███████▏  | 43/60 [03:19<01:16,  4.50s/it]"
     ]
    },
    {
     "name": "stdout",
     "output_type": "stream",
     "text": [
      "Precision@10: 0.7085, Hit@10: 0.9700\n",
      "Epoch 44, Loss: 2919.1186\n"
     ]
    },
    {
     "name": "stderr",
     "output_type": "stream",
     "text": [
      " 73%|███████▎  | 44/60 [03:24<01:10,  4.42s/it]"
     ]
    },
    {
     "name": "stdout",
     "output_type": "stream",
     "text": [
      "Precision@10: 0.7070, Hit@10: 0.9650\n",
      "Epoch 45, Loss: 2842.9050\n"
     ]
    },
    {
     "name": "stderr",
     "output_type": "stream",
     "text": [
      " 75%|███████▌  | 45/60 [03:28<01:05,  4.35s/it]"
     ]
    },
    {
     "name": "stdout",
     "output_type": "stream",
     "text": [
      "Precision@10: 0.7190, Hit@10: 0.9700\n",
      "Epoch 46, Loss: 2841.5039\n"
     ]
    },
    {
     "name": "stderr",
     "output_type": "stream",
     "text": [
      " 77%|███████▋  | 46/60 [03:32<01:00,  4.33s/it]"
     ]
    },
    {
     "name": "stdout",
     "output_type": "stream",
     "text": [
      "Precision@10: 0.7155, Hit@10: 0.9750\n",
      "Epoch 47, Loss: 2826.8619\n"
     ]
    },
    {
     "name": "stderr",
     "output_type": "stream",
     "text": [
      " 78%|███████▊  | 47/60 [03:36<00:55,  4.30s/it]"
     ]
    },
    {
     "name": "stdout",
     "output_type": "stream",
     "text": [
      "Precision@10: 0.7195, Hit@10: 0.9750\n",
      "Epoch 48, Loss: 2822.2274\n"
     ]
    },
    {
     "name": "stderr",
     "output_type": "stream",
     "text": [
      " 80%|████████  | 48/60 [03:40<00:51,  4.28s/it]"
     ]
    },
    {
     "name": "stdout",
     "output_type": "stream",
     "text": [
      "Precision@10: 0.7245, Hit@10: 0.9750\n",
      "Epoch 49, Loss: 2611.1425\n"
     ]
    },
    {
     "name": "stderr",
     "output_type": "stream",
     "text": [
      " 82%|████████▏ | 49/60 [03:45<00:47,  4.31s/it]"
     ]
    },
    {
     "name": "stdout",
     "output_type": "stream",
     "text": [
      "Precision@10: 0.7255, Hit@10: 0.9700\n",
      "Epoch 50, Loss: 2561.8815\n"
     ]
    },
    {
     "name": "stderr",
     "output_type": "stream",
     "text": [
      " 83%|████████▎ | 50/60 [03:49<00:43,  4.32s/it]"
     ]
    },
    {
     "name": "stdout",
     "output_type": "stream",
     "text": [
      "Precision@10: 0.7210, Hit@10: 0.9700\n",
      "Epoch 51, Loss: 2643.4655\n"
     ]
    },
    {
     "name": "stderr",
     "output_type": "stream",
     "text": [
      " 85%|████████▌ | 51/60 [03:54<00:38,  4.32s/it]"
     ]
    },
    {
     "name": "stdout",
     "output_type": "stream",
     "text": [
      "Precision@10: 0.7260, Hit@10: 0.9650\n",
      "Epoch 52, Loss: 2607.6245\n"
     ]
    },
    {
     "name": "stderr",
     "output_type": "stream",
     "text": [
      " 87%|████████▋ | 52/60 [03:58<00:34,  4.32s/it]"
     ]
    },
    {
     "name": "stdout",
     "output_type": "stream",
     "text": [
      "Precision@10: 0.7230, Hit@10: 0.9700\n",
      "Epoch 53, Loss: 2336.7957\n"
     ]
    },
    {
     "name": "stderr",
     "output_type": "stream",
     "text": [
      " 88%|████████▊ | 53/60 [04:02<00:30,  4.41s/it]"
     ]
    },
    {
     "name": "stdout",
     "output_type": "stream",
     "text": [
      "Precision@10: 0.7265, Hit@10: 0.9750\n",
      "Epoch 54, Loss: 2487.1995\n"
     ]
    },
    {
     "name": "stderr",
     "output_type": "stream",
     "text": [
      " 90%|█████████ | 54/60 [04:07<00:26,  4.45s/it]"
     ]
    },
    {
     "name": "stdout",
     "output_type": "stream",
     "text": [
      "Precision@10: 0.7330, Hit@10: 0.9750\n",
      "Epoch 55, Loss: 2574.1385\n"
     ]
    },
    {
     "name": "stderr",
     "output_type": "stream",
     "text": [
      " 92%|█████████▏| 55/60 [04:12<00:22,  4.51s/it]"
     ]
    },
    {
     "name": "stdout",
     "output_type": "stream",
     "text": [
      "Precision@10: 0.7285, Hit@10: 0.9700\n",
      "Epoch 56, Loss: 2616.3247\n"
     ]
    },
    {
     "name": "stderr",
     "output_type": "stream",
     "text": [
      " 93%|█████████▎| 56/60 [04:16<00:18,  4.52s/it]"
     ]
    },
    {
     "name": "stdout",
     "output_type": "stream",
     "text": [
      "Precision@10: 0.7265, Hit@10: 0.9700\n",
      "Epoch 57, Loss: 2244.5125\n"
     ]
    },
    {
     "name": "stderr",
     "output_type": "stream",
     "text": [
      " 95%|█████████▌| 57/60 [04:21<00:13,  4.50s/it]"
     ]
    },
    {
     "name": "stdout",
     "output_type": "stream",
     "text": [
      "Precision@10: 0.7235, Hit@10: 0.9700\n",
      "Epoch 58, Loss: 2258.4345\n"
     ]
    },
    {
     "name": "stderr",
     "output_type": "stream",
     "text": [
      " 97%|█████████▋| 58/60 [04:25<00:09,  4.52s/it]"
     ]
    },
    {
     "name": "stdout",
     "output_type": "stream",
     "text": [
      "Precision@10: 0.7290, Hit@10: 0.9750\n",
      "Epoch 59, Loss: 2248.6849\n"
     ]
    },
    {
     "name": "stderr",
     "output_type": "stream",
     "text": [
      " 98%|█████████▊| 59/60 [04:30<00:04,  4.51s/it]"
     ]
    },
    {
     "name": "stdout",
     "output_type": "stream",
     "text": [
      "Precision@10: 0.7280, Hit@10: 0.9750\n",
      "Epoch 60, Loss: 2116.4752\n"
     ]
    },
    {
     "name": "stderr",
     "output_type": "stream",
     "text": [
      "100%|██████████| 60/60 [04:34<00:00,  4.58s/it]"
     ]
    },
    {
     "name": "stdout",
     "output_type": "stream",
     "text": [
      "Precision@10: 0.7285, Hit@10: 0.9800\n"
     ]
    },
    {
     "name": "stderr",
     "output_type": "stream",
     "text": [
      "\n"
     ]
    },
    {
     "name": "stdout",
     "output_type": "stream",
     "text": [
      "Precision@10: 0.7285, Hit@10: 0.9800\n"
     ]
    }
   ],
   "source": [
    "train_matrix, test_matrix = train_test_split(Mui_set, test_ratio=0.2)\n",
    "\n",
    "train_dataset = TrainingDataset(train_matrix, num_negatives=5)\n",
    "train_loader = DataLoader(train_dataset, batch_size=128, shuffle=True)\n",
    "\n",
    "num_users, num_items = train_matrix.shape\n",
    "dim = 64\n",
    "model = BoxIntersectionModel(num_users, num_items, embedding_dim=dim)\n",
    "print(f\"Dimension: {dim}\")\n",
    "train(model, train_loader, loss_type='NLL',epochs= 10 * int(np.log2(dim)) , lr=0.01)\n",
    "evaluate_precision_hit(model, test_matrix, train_matrix, k=10)"
   ]
  },
  {
   "cell_type": "code",
   "execution_count": 55,
   "metadata": {},
   "outputs": [
    {
     "name": "stdout",
     "output_type": "stream",
     "text": [
      "Precision@1: 0.8050, Hit@1: 0.8050\n",
      "Precision@5: 0.7820, Hit@5: 0.9550\n",
      "Precision@10: 0.7285, Hit@10: 0.9800\n"
     ]
    }
   ],
   "source": [
    "for k in [1, 5, 10]:\n",
    "    evaluate_precision_hit(model, test_matrix, train_matrix, k=k)"
   ]
  },
  {
   "cell_type": "code",
   "execution_count": 60,
   "metadata": {},
   "outputs": [
    {
     "name": "stdout",
     "output_type": "stream",
     "text": [
      "Dimension: 32\n"
     ]
    },
    {
     "name": "stderr",
     "output_type": "stream",
     "text": [
      "  0%|          | 0/50 [00:00<?, ?it/s]"
     ]
    },
    {
     "name": "stdout",
     "output_type": "stream",
     "text": [
      "Epoch 1, Loss: 36016.9535\n"
     ]
    },
    {
     "name": "stderr",
     "output_type": "stream",
     "text": [
      "  2%|▏         | 1/50 [00:03<03:09,  3.87s/it]"
     ]
    },
    {
     "name": "stdout",
     "output_type": "stream",
     "text": [
      "Precision@10: 0.5210, Hit@10: 0.9950\n",
      "Epoch 2, Loss: 13519.7088\n"
     ]
    },
    {
     "name": "stderr",
     "output_type": "stream",
     "text": [
      "  4%|▍         | 2/50 [00:07<03:00,  3.77s/it]"
     ]
    },
    {
     "name": "stdout",
     "output_type": "stream",
     "text": [
      "Precision@10: 0.5865, Hit@10: 0.9850\n",
      "Epoch 3, Loss: 12526.4601\n"
     ]
    },
    {
     "name": "stderr",
     "output_type": "stream",
     "text": [
      "  6%|▌         | 3/50 [00:11<02:52,  3.67s/it]"
     ]
    },
    {
     "name": "stdout",
     "output_type": "stream",
     "text": [
      "Precision@10: 0.6215, Hit@10: 0.9850\n",
      "Epoch 4, Loss: 12011.4959\n"
     ]
    },
    {
     "name": "stderr",
     "output_type": "stream",
     "text": [
      "  8%|▊         | 4/50 [00:14<02:52,  3.74s/it]"
     ]
    },
    {
     "name": "stdout",
     "output_type": "stream",
     "text": [
      "Precision@10: 0.6430, Hit@10: 0.9900\n",
      "Epoch 5, Loss: 11945.2149\n"
     ]
    },
    {
     "name": "stderr",
     "output_type": "stream",
     "text": [
      " 10%|█         | 5/50 [00:18<02:49,  3.77s/it]"
     ]
    },
    {
     "name": "stdout",
     "output_type": "stream",
     "text": [
      "Precision@10: 0.6565, Hit@10: 0.9850\n",
      "Epoch 6, Loss: 11447.4005\n"
     ]
    },
    {
     "name": "stderr",
     "output_type": "stream",
     "text": [
      " 12%|█▏        | 6/50 [00:22<02:48,  3.84s/it]"
     ]
    },
    {
     "name": "stdout",
     "output_type": "stream",
     "text": [
      "Precision@10: 0.6495, Hit@10: 0.9900\n",
      "Epoch 7, Loss: 10655.6615\n"
     ]
    },
    {
     "name": "stderr",
     "output_type": "stream",
     "text": [
      " 14%|█▍        | 7/50 [00:26<02:42,  3.79s/it]"
     ]
    },
    {
     "name": "stdout",
     "output_type": "stream",
     "text": [
      "Precision@10: 0.6900, Hit@10: 0.9850\n",
      "Epoch 8, Loss: 10569.9004\n"
     ]
    },
    {
     "name": "stderr",
     "output_type": "stream",
     "text": [
      " 16%|█▌        | 8/50 [00:30<02:40,  3.83s/it]"
     ]
    },
    {
     "name": "stdout",
     "output_type": "stream",
     "text": [
      "Precision@10: 0.7060, Hit@10: 1.0000\n",
      "Epoch 9, Loss: 11274.7553\n"
     ]
    },
    {
     "name": "stderr",
     "output_type": "stream",
     "text": [
      " 18%|█▊        | 9/50 [00:34<02:38,  3.87s/it]"
     ]
    },
    {
     "name": "stdout",
     "output_type": "stream",
     "text": [
      "Precision@10: 0.7105, Hit@10: 0.9950\n",
      "Epoch 10, Loss: 9982.0330\n"
     ]
    },
    {
     "name": "stderr",
     "output_type": "stream",
     "text": [
      " 20%|██        | 10/50 [00:38<02:41,  4.05s/it]"
     ]
    },
    {
     "name": "stdout",
     "output_type": "stream",
     "text": [
      "Precision@10: 0.7300, Hit@10: 0.9950\n",
      "Epoch 11, Loss: 9888.0536\n"
     ]
    },
    {
     "name": "stderr",
     "output_type": "stream",
     "text": [
      " 22%|██▏       | 11/50 [00:42<02:38,  4.05s/it]"
     ]
    },
    {
     "name": "stdout",
     "output_type": "stream",
     "text": [
      "Precision@10: 0.7570, Hit@10: 1.0000\n",
      "Epoch 12, Loss: 11263.4409\n"
     ]
    },
    {
     "name": "stderr",
     "output_type": "stream",
     "text": [
      " 24%|██▍       | 12/50 [00:46<02:34,  4.06s/it]"
     ]
    },
    {
     "name": "stdout",
     "output_type": "stream",
     "text": [
      "Precision@10: 0.7575, Hit@10: 1.0000\n",
      "Epoch 13, Loss: 10361.2657\n"
     ]
    },
    {
     "name": "stderr",
     "output_type": "stream",
     "text": [
      " 26%|██▌       | 13/50 [00:51<02:31,  4.09s/it]"
     ]
    },
    {
     "name": "stdout",
     "output_type": "stream",
     "text": [
      "Precision@10: 0.7740, Hit@10: 0.9950\n",
      "Epoch 14, Loss: 9149.7611\n"
     ]
    },
    {
     "name": "stderr",
     "output_type": "stream",
     "text": [
      " 28%|██▊       | 14/50 [00:55<02:27,  4.08s/it]"
     ]
    },
    {
     "name": "stdout",
     "output_type": "stream",
     "text": [
      "Precision@10: 0.7785, Hit@10: 1.0000\n",
      "Epoch 15, Loss: 9082.1118\n"
     ]
    },
    {
     "name": "stderr",
     "output_type": "stream",
     "text": [
      " 30%|███       | 15/50 [00:59<02:23,  4.10s/it]"
     ]
    },
    {
     "name": "stdout",
     "output_type": "stream",
     "text": [
      "Precision@10: 0.7885, Hit@10: 1.0000\n",
      "Epoch 16, Loss: 9796.3705\n"
     ]
    },
    {
     "name": "stderr",
     "output_type": "stream",
     "text": [
      " 32%|███▏      | 16/50 [01:03<02:22,  4.20s/it]"
     ]
    },
    {
     "name": "stdout",
     "output_type": "stream",
     "text": [
      "Precision@10: 0.7895, Hit@10: 1.0000\n",
      "Epoch 17, Loss: 9971.4696\n"
     ]
    },
    {
     "name": "stderr",
     "output_type": "stream",
     "text": [
      " 34%|███▍      | 17/50 [01:07<02:19,  4.22s/it]"
     ]
    },
    {
     "name": "stdout",
     "output_type": "stream",
     "text": [
      "Precision@10: 0.8090, Hit@10: 1.0000\n",
      "Epoch 18, Loss: 11194.9810\n"
     ]
    },
    {
     "name": "stderr",
     "output_type": "stream",
     "text": [
      " 36%|███▌      | 18/50 [01:12<02:18,  4.33s/it]"
     ]
    },
    {
     "name": "stdout",
     "output_type": "stream",
     "text": [
      "Precision@10: 0.8240, Hit@10: 1.0000\n",
      "Epoch 19, Loss: 10577.1107\n"
     ]
    },
    {
     "name": "stderr",
     "output_type": "stream",
     "text": [
      " 38%|███▊      | 19/50 [01:16<02:11,  4.23s/it]"
     ]
    },
    {
     "name": "stdout",
     "output_type": "stream",
     "text": [
      "Precision@10: 0.8185, Hit@10: 1.0000\n",
      "Epoch 20, Loss: 10159.3020\n"
     ]
    },
    {
     "name": "stderr",
     "output_type": "stream",
     "text": [
      " 40%|████      | 20/50 [01:21<02:09,  4.32s/it]"
     ]
    },
    {
     "name": "stdout",
     "output_type": "stream",
     "text": [
      "Precision@10: 0.8325, Hit@10: 1.0000\n",
      "Epoch 21, Loss: 9152.4944\n"
     ]
    },
    {
     "name": "stderr",
     "output_type": "stream",
     "text": [
      " 42%|████▏     | 21/50 [01:25<02:09,  4.45s/it]"
     ]
    },
    {
     "name": "stdout",
     "output_type": "stream",
     "text": [
      "Precision@10: 0.8465, Hit@10: 1.0000\n",
      "Epoch 22, Loss: 10929.6186\n"
     ]
    },
    {
     "name": "stderr",
     "output_type": "stream",
     "text": [
      " 44%|████▍     | 22/50 [01:31<02:11,  4.70s/it]"
     ]
    },
    {
     "name": "stdout",
     "output_type": "stream",
     "text": [
      "Precision@10: 0.8445, Hit@10: 1.0000\n",
      "Epoch 23, Loss: 11155.8868\n"
     ]
    },
    {
     "name": "stderr",
     "output_type": "stream",
     "text": [
      " 46%|████▌     | 23/50 [01:35<02:00,  4.47s/it]"
     ]
    },
    {
     "name": "stdout",
     "output_type": "stream",
     "text": [
      "Precision@10: 0.8550, Hit@10: 1.0000\n",
      "Epoch 24, Loss: 10597.2289\n"
     ]
    },
    {
     "name": "stderr",
     "output_type": "stream",
     "text": [
      " 48%|████▊     | 24/50 [01:38<01:51,  4.30s/it]"
     ]
    },
    {
     "name": "stdout",
     "output_type": "stream",
     "text": [
      "Precision@10: 0.8595, Hit@10: 1.0000\n",
      "Epoch 25, Loss: 10715.9061\n"
     ]
    },
    {
     "name": "stderr",
     "output_type": "stream",
     "text": [
      " 50%|█████     | 25/50 [01:44<01:55,  4.62s/it]"
     ]
    },
    {
     "name": "stdout",
     "output_type": "stream",
     "text": [
      "Precision@10: 0.8640, Hit@10: 1.0000\n",
      "Epoch 26, Loss: 9668.5044\n"
     ]
    },
    {
     "name": "stderr",
     "output_type": "stream",
     "text": [
      " 52%|█████▏    | 26/50 [01:48<01:44,  4.35s/it]"
     ]
    },
    {
     "name": "stdout",
     "output_type": "stream",
     "text": [
      "Precision@10: 0.8695, Hit@10: 1.0000\n",
      "Epoch 27, Loss: 11578.3771\n"
     ]
    },
    {
     "name": "stderr",
     "output_type": "stream",
     "text": [
      " 54%|█████▍    | 27/50 [01:52<01:38,  4.27s/it]"
     ]
    },
    {
     "name": "stdout",
     "output_type": "stream",
     "text": [
      "Precision@10: 0.8760, Hit@10: 1.0000\n",
      "Epoch 28, Loss: 10172.4328\n"
     ]
    },
    {
     "name": "stderr",
     "output_type": "stream",
     "text": [
      " 56%|█████▌    | 28/50 [01:56<01:32,  4.19s/it]"
     ]
    },
    {
     "name": "stdout",
     "output_type": "stream",
     "text": [
      "Precision@10: 0.8775, Hit@10: 1.0000\n",
      "Epoch 29, Loss: 11990.8292\n"
     ]
    },
    {
     "name": "stderr",
     "output_type": "stream",
     "text": [
      " 58%|█████▊    | 29/50 [02:00<01:26,  4.11s/it]"
     ]
    },
    {
     "name": "stdout",
     "output_type": "stream",
     "text": [
      "Precision@10: 0.8850, Hit@10: 1.0000\n",
      "Epoch 30, Loss: 10722.9280\n"
     ]
    },
    {
     "name": "stderr",
     "output_type": "stream",
     "text": [
      " 60%|██████    | 30/50 [02:03<01:19,  3.98s/it]"
     ]
    },
    {
     "name": "stdout",
     "output_type": "stream",
     "text": [
      "Precision@10: 0.8830, Hit@10: 1.0000\n",
      "Epoch 31, Loss: 11366.1552\n"
     ]
    },
    {
     "name": "stderr",
     "output_type": "stream",
     "text": [
      " 62%|██████▏   | 31/50 [02:07<01:13,  3.84s/it]"
     ]
    },
    {
     "name": "stdout",
     "output_type": "stream",
     "text": [
      "Precision@10: 0.8845, Hit@10: 1.0000\n",
      "Epoch 32, Loss: 13026.6001\n"
     ]
    },
    {
     "name": "stderr",
     "output_type": "stream",
     "text": [
      " 64%|██████▍   | 32/50 [02:11<01:09,  3.84s/it]"
     ]
    },
    {
     "name": "stdout",
     "output_type": "stream",
     "text": [
      "Precision@10: 0.8920, Hit@10: 1.0000\n",
      "Epoch 33, Loss: 13818.3231\n"
     ]
    },
    {
     "name": "stderr",
     "output_type": "stream",
     "text": [
      " 66%|██████▌   | 33/50 [02:15<01:06,  3.88s/it]"
     ]
    },
    {
     "name": "stdout",
     "output_type": "stream",
     "text": [
      "Precision@10: 0.8985, Hit@10: 0.9950\n",
      "Epoch 34, Loss: 11057.3901\n"
     ]
    },
    {
     "name": "stderr",
     "output_type": "stream",
     "text": [
      " 68%|██████▊   | 34/50 [02:18<01:02,  3.88s/it]"
     ]
    },
    {
     "name": "stdout",
     "output_type": "stream",
     "text": [
      "Precision@10: 0.9040, Hit@10: 1.0000\n",
      "Epoch 35, Loss: 13639.8666\n"
     ]
    },
    {
     "name": "stderr",
     "output_type": "stream",
     "text": [
      " 70%|███████   | 35/50 [02:22<00:58,  3.92s/it]"
     ]
    },
    {
     "name": "stdout",
     "output_type": "stream",
     "text": [
      "Precision@10: 0.9035, Hit@10: 1.0000\n",
      "Epoch 36, Loss: 12387.3855\n"
     ]
    },
    {
     "name": "stderr",
     "output_type": "stream",
     "text": [
      " 72%|███████▏  | 36/50 [02:27<00:55,  3.96s/it]"
     ]
    },
    {
     "name": "stdout",
     "output_type": "stream",
     "text": [
      "Precision@10: 0.9010, Hit@10: 1.0000\n",
      "Epoch 37, Loss: 11432.3166\n"
     ]
    },
    {
     "name": "stderr",
     "output_type": "stream",
     "text": [
      " 74%|███████▍  | 37/50 [02:31<00:52,  4.01s/it]"
     ]
    },
    {
     "name": "stdout",
     "output_type": "stream",
     "text": [
      "Precision@10: 0.9080, Hit@10: 1.0000\n",
      "Epoch 38, Loss: 13447.7545\n"
     ]
    },
    {
     "name": "stderr",
     "output_type": "stream",
     "text": [
      " 76%|███████▌  | 38/50 [02:35<00:48,  4.05s/it]"
     ]
    },
    {
     "name": "stdout",
     "output_type": "stream",
     "text": [
      "Precision@10: 0.9045, Hit@10: 1.0000\n",
      "Epoch 39, Loss: 11063.1122\n"
     ]
    },
    {
     "name": "stderr",
     "output_type": "stream",
     "text": [
      " 78%|███████▊  | 39/50 [02:39<00:44,  4.06s/it]"
     ]
    },
    {
     "name": "stdout",
     "output_type": "stream",
     "text": [
      "Precision@10: 0.9095, Hit@10: 1.0000\n",
      "Epoch 40, Loss: 11894.9658\n"
     ]
    },
    {
     "name": "stderr",
     "output_type": "stream",
     "text": [
      " 80%|████████  | 40/50 [02:43<00:40,  4.07s/it]"
     ]
    },
    {
     "name": "stdout",
     "output_type": "stream",
     "text": [
      "Precision@10: 0.9060, Hit@10: 1.0000\n",
      "Epoch 41, Loss: 12636.3654\n"
     ]
    },
    {
     "name": "stderr",
     "output_type": "stream",
     "text": [
      " 82%|████████▏ | 41/50 [02:47<00:36,  4.03s/it]"
     ]
    },
    {
     "name": "stdout",
     "output_type": "stream",
     "text": [
      "Precision@10: 0.9080, Hit@10: 1.0000\n",
      "Epoch 42, Loss: 13939.9683\n"
     ]
    },
    {
     "name": "stderr",
     "output_type": "stream",
     "text": [
      " 84%|████████▍ | 42/50 [02:51<00:32,  4.00s/it]"
     ]
    },
    {
     "name": "stdout",
     "output_type": "stream",
     "text": [
      "Precision@10: 0.9085, Hit@10: 1.0000\n",
      "Epoch 43, Loss: 13742.8106\n"
     ]
    },
    {
     "name": "stderr",
     "output_type": "stream",
     "text": [
      " 86%|████████▌ | 43/50 [02:55<00:28,  4.00s/it]"
     ]
    },
    {
     "name": "stdout",
     "output_type": "stream",
     "text": [
      "Precision@10: 0.9085, Hit@10: 1.0000\n",
      "Epoch 44, Loss: 11226.9004\n"
     ]
    },
    {
     "name": "stderr",
     "output_type": "stream",
     "text": [
      " 88%|████████▊ | 44/50 [02:59<00:23,  3.96s/it]"
     ]
    },
    {
     "name": "stdout",
     "output_type": "stream",
     "text": [
      "Precision@10: 0.9060, Hit@10: 1.0000\n",
      "Epoch 45, Loss: 14420.8570\n"
     ]
    },
    {
     "name": "stderr",
     "output_type": "stream",
     "text": [
      " 90%|█████████ | 45/50 [03:02<00:19,  3.90s/it]"
     ]
    },
    {
     "name": "stdout",
     "output_type": "stream",
     "text": [
      "Precision@10: 0.9115, Hit@10: 1.0000\n",
      "Epoch 46, Loss: 13873.8010\n"
     ]
    },
    {
     "name": "stderr",
     "output_type": "stream",
     "text": [
      " 92%|█████████▏| 46/50 [03:06<00:15,  3.92s/it]"
     ]
    },
    {
     "name": "stdout",
     "output_type": "stream",
     "text": [
      "Precision@10: 0.9075, Hit@10: 1.0000\n",
      "Epoch 47, Loss: 14953.8138\n"
     ]
    },
    {
     "name": "stderr",
     "output_type": "stream",
     "text": [
      " 94%|█████████▍| 47/50 [03:10<00:11,  3.89s/it]"
     ]
    },
    {
     "name": "stdout",
     "output_type": "stream",
     "text": [
      "Precision@10: 0.9055, Hit@10: 1.0000\n",
      "Epoch 48, Loss: 14616.8826\n"
     ]
    },
    {
     "name": "stderr",
     "output_type": "stream",
     "text": [
      " 96%|█████████▌| 48/50 [03:14<00:07,  3.90s/it]"
     ]
    },
    {
     "name": "stdout",
     "output_type": "stream",
     "text": [
      "Precision@10: 0.9020, Hit@10: 1.0000\n",
      "Epoch 49, Loss: 13419.4977\n"
     ]
    },
    {
     "name": "stderr",
     "output_type": "stream",
     "text": [
      " 98%|█████████▊| 49/50 [03:18<00:04,  4.01s/it]"
     ]
    },
    {
     "name": "stdout",
     "output_type": "stream",
     "text": [
      "Precision@10: 0.9090, Hit@10: 1.0000\n",
      "Epoch 50, Loss: 14402.4844\n"
     ]
    },
    {
     "name": "stderr",
     "output_type": "stream",
     "text": [
      "100%|██████████| 50/50 [03:22<00:00,  4.06s/it]"
     ]
    },
    {
     "name": "stdout",
     "output_type": "stream",
     "text": [
      "Precision@10: 0.9150, Hit@10: 1.0000\n"
     ]
    },
    {
     "name": "stderr",
     "output_type": "stream",
     "text": [
      "\n"
     ]
    },
    {
     "name": "stdout",
     "output_type": "stream",
     "text": [
      "Precision@10: 0.9150, Hit@10: 1.0000\n"
     ]
    }
   ],
   "source": [
    "train_matrix, test_matrix = train_test_split(Mui_dot, test_ratio=0.2)\n",
    "\n",
    "train_dataset = TrainingDataset(train_matrix, num_negatives=4)\n",
    "train_loader = DataLoader(train_dataset, batch_size=128, shuffle=True)\n",
    "\n",
    "num_users, num_items = train_matrix.shape\n",
    "dim = 32\n",
    "model = BoxIntersectionModel(num_users, num_items, embedding_dim=dim)\n",
    "print(f\"Dimension: {dim}\")\n",
    "train(model, train_loader, loss_type='NLL',epochs= 10 * int(np.log2(dim)) , lr=0.01)\n",
    "evaluate_precision_hit(model, test_matrix, train_matrix, k=10)"
   ]
  },
  {
   "cell_type": "code",
   "execution_count": 61,
   "metadata": {},
   "outputs": [
    {
     "name": "stdout",
     "output_type": "stream",
     "text": [
      "Precision@1: 0.9250, Hit@1: 0.9250\n",
      "Precision@5: 0.9130, Hit@5: 0.9950\n",
      "Precision@10: 0.9150, Hit@10: 1.0000\n"
     ]
    }
   ],
   "source": [
    "for k in [1, 5, 10]:\n",
    "    evaluate_precision_hit(model, test_matrix, train_matrix, k=k)"
   ]
  },
  {
   "cell_type": "markdown",
   "metadata": {},
   "source": [
    "## Results\n",
    "\n",
    "- Num Items 3883\n",
    "- Num Users 200\n",
    "- Num attributes 18\n",
    "#### M_dot\n",
    "- Mua @ Mia.T > tau (Mua: Generated, Mia: Real data)\n",
    "- Mia is from real data.\n",
    "- Mua is created by the common understanding \n",
    "    - \"If you like this genre you might also like similar genre\"\n",
    "#### User rules"
   ]
  },
  {
   "cell_type": "markdown",
   "metadata": {},
   "source": [
    "<style>\n",
    "  .genre { \n",
    "    display: inline-block; \n",
    "    padding: 2px 6px; \n",
    "    margin: 1px; \n",
    "    border-radius: 6px; \n",
    "    font-size: 90%;\n",
    "    font-weight: bold;\n",
    "    color: white;\n",
    "  }\n",
    "  .adventure { background-color: #1f77b4; }\n",
    "  .comedy { background-color: #ff7f0e; }\n",
    "  .animation { background-color: #2ca02c; }\n",
    "  .horror { background-color: #d62728; }\n",
    "  .sci-fi { background-color: #9467bd; }\n",
    "  .crime { background-color: #8c564b; }\n",
    "  .thriller { background-color: #e377c2; }\n",
    "  .war { background-color: #7f7f7f; }\n",
    "  .action { background-color: #bcbd22; }\n",
    "  .western { background-color: #17becf; }\n",
    "  .romance { background-color: #ff9896; }\n",
    "  .mystery { background-color: #c5b0d5; }\n",
    "  .fantasy { background-color: #aec7e8; }\n",
    "  .children { background-color: #98df8a; }\n",
    "</style>\n",
    "\n",
    "<p><strong>User 1:</strong><br>\n",
    "(<span class=\"genre adventure\">Adventure</span> ∧ <span class=\"genre comedy\">Comedy</span>) ∨ \n",
    "(<span class=\"genre animation\">Animation</span> ∧ <span class=\"genre comedy\">Comedy</span>) ∨ \n",
    "(<span class=\"genre adventure\">Adventure</span> ∧ <span class=\"genre horror\">Horror</span>) ∨ \n",
    "(<span class=\"genre comedy\">Comedy</span> ∧ <span class=\"genre sci-fi\">Sci-Fi</span>)\n",
    "</p>\n",
    "\n",
    "<p><strong>User 2:</strong><br>\n",
    "(<span class=\"genre crime\">Crime</span> ∧ <span class=\"genre horror\">Horror</span>) ∨ \n",
    "(<span class=\"genre thriller\">Thriller</span> ∧ <span class=\"genre war\">War</span>) ∨ \n",
    "(<span class=\"genre action\">Action</span> ∧ <span class=\"genre western\">Western</span>)\n",
    "</p>\n",
    "\n",
    "<p><strong>User 3:</strong><br>\n",
    "(<span class=\"genre crime\">Crime</span> ∧ <span class=\"genre horror\">Horror</span>) ∨ \n",
    "(<span class=\"genre adventure\">Adventure</span> ∧ <span class=\"genre horror\">Horror</span>) ∨ \n",
    "(<span class=\"genre adventure\">Adventure</span> ∧ <span class=\"genre comedy\">Comedy</span>) ∨ \n",
    "(<span class=\"genre romance\">Romance</span> ∧ ¬<span class=\"genre thriller\">Thriller</span>)\n",
    "</p>\n",
    "\n",
    "<p><strong>User 4:</strong><br>\n",
    "(<span class=\"genre comedy\">Comedy</span> ∧ <span class=\"genre mystery\">Mystery</span>) ∨ \n",
    "(<span class=\"genre adventure\">Adventure</span> ∧ <span class=\"genre mystery\">Mystery</span>)\n",
    "</p>\n",
    "\n",
    "<p><strong>User 5:</strong><br>\n",
    "(<span class=\"genre crime\">Crime</span> ∧ <span class=\"genre mystery\">Mystery</span>) ∨ \n",
    "(<span class=\"genre comedy\">Comedy</span> ∧ <span class=\"genre fantasy\">Fantasy</span>) ∨ \n",
    "(<span class=\"genre children\">Children's</span> ∧ <span class=\"genre sci-fi\">Sci-Fi</span>) ∨ \n",
    "(<span class=\"genre action\">Action</span> ∧ <span class=\"genre thriller\">Thriller</span>)\n",
    "</p>\n",
    "\n"
   ]
  },
  {
   "cell_type": "markdown",
   "metadata": {},
   "source": [
    "Hypothesis\n",
    "- M_set is not created by multiplication of matrices, so must be higher M_dot\n",
    "- For M_set boxes would do better than vectors\n",
    "- For M_dot vectors would do better than boxes (This we do not know for certain)\n",
    "    - We do not know which angle we should be hitting for understanding the limitation with boxes.\n",
    "    - Boxes might not be capturing low rank matrices, even if they do, it will be an overfitting to data."
   ]
  },
  {
   "cell_type": "markdown",
   "metadata": {},
   "source": [
    "<table border=\"1\" cellpadding=\"5\" cellspacing=\"0\">\n",
    "  <thead>\n",
    "    <tr>\n",
    "      <th rowspan=\"2\">Matrix type</th>\n",
    "      <th rowspan=\"2\">Matrix rank</th>\n",
    "      <th rowspan=\"2\">Matrix sparsity</th>\n",
    "      <th colspan=\"2\">Vector</th>\n",
    "      <th colspan=\"2\">Box</th>\n",
    "    </tr>\n",
    "    <tr>\n",
    "      <th>Precision@10</th>\n",
    "      <th>Hits@10</th>\n",
    "      <th>Precision@10</th>\n",
    "      <th>Hits@10</th>\n",
    "    </tr>\n",
    "  </thead>\n",
    "  <tbody>\n",
    "    <tr>\n",
    "      <td>M_dot</td>\n",
    "      <td>130</td>\n",
    "      <td>90.3</td>\n",
    "      <td>96.5</td>\n",
    "      <td>100.0</td>\n",
    "      <td>91.5</td>\n",
    "      <td>100.0</td>\n",
    "    </tr>\n",
    "    <tr>\n",
    "      <td>M_set</td>\n",
    "      <td>188</td>\n",
    "      <td>93.8</td>\n",
    "      <td>59.15</td>\n",
    "      <td>89.0</td>\n",
    "      <td>72.9</td>\n",
    "      <td>98.0</td>\n",
    "    </tr>\n",
    "    <tr>\n",
    "      <td>M_combined</td>\n",
    "      <td>92.4</td>\n",
    "      <td>194</td>\n",
    "      <td>--</td>\n",
    "      <td>--</td>\n",
    "      <td>--</td>\n",
    "      <td>--</td>\n",
    "    </tr>\n",
    "  </tbody>\n",
    "</table>\n",
    "\n",
    "\n",
    "\n"
   ]
  },
  {
   "cell_type": "markdown",
   "metadata": {},
   "source": [
    "Todo\n",
    "\n",
    "[ ] M_combined: Right now just a convex sum. Evidently rank increases which is bad? Also need to run these experiments\n",
    "\n",
    "[ ] Dataset size is small -- 1. Run k-fold cross validation 2. need to scale up.\n",
    "\n",
    "[ ] Hyperparam search (Some manual tuning is done to make the training work)\n",
    "\n",
    "[ ] Effect of dimension (current dimension size 64)\n",
    "\n",
    "[ ] Disjunction = 0\n",
    "\n",
    "[ ] how to combine -- disjucntion? or convex combination ?\n",
    "\n",
    "[ ] more on the probing combination.. \n",
    "\n",
    "[ ] Size of the dataset might affect generalization... also the dimension of boxes? does it over fit.\n",
    "\n",
    "[ ] training data size, rank, other meta parameters like the dimensions. \n",
    "\n",
    "[ ] Similar for the M_set.\n",
    "\n",
    "[ ] \n"
   ]
  },
  {
   "cell_type": "code",
   "execution_count": null,
   "metadata": {},
   "outputs": [],
   "source": []
  },
  {
   "cell_type": "markdown",
   "metadata": {},
   "source": [
    "[ ] Todo list\n",
    "\n",
    "\n",
    "[ ] Check all the functionalities.\n",
    "- Does the data generation agree with what I have? \\\\\n",
    "- What is the rank / sparsity of these metrices?\n",
    "- Is set is of higher rank?\n",
    "- Also, study the spectrum of the PCA / SVD to come to the conclusion for ranks.\n",
    "        Because the matrices might all be high rank because of the noisy or incompelteness. But they might be very close to a low rank, and we are after that approximation. Spectrum analysis would catch that\n",
    "\n",
    "\n",
    "[ ] What is the best Eval in such scenario?\n",
    "- Rec evals are more discrete so any poor model might also get hits@10 correct, or might just not get it at all. \n",
    "- Maybe RMSE is the way to go. Need to understand more on this.\n",
    "\n",
    "[ ] check the dot product, does normalization help? Exhaustive search space.\n",
    "\n",
    "[ ] How to densify the set-aspects.\n",
    "\n",
    "[ ] Users are defined by latent factors.\n",
    " - Should those be boxes?\n",
    " - if so then what are the latent factors that are more favourable to boxes\n",
    "\n",
    "\n",
    "[ ] \n",
    "- "
   ]
  },
  {
   "cell_type": "markdown",
   "metadata": {},
   "source": [
    "Possibilites\n",
    "- Test bed for the latent box\n",
    "- But if the higher dimensions are getting it, then honestly need to understand what is wrong.\n"
   ]
  },
  {
   "cell_type": "code",
   "execution_count": null,
   "metadata": {},
   "outputs": [],
   "source": []
  }
 ],
 "metadata": {
  "kernelspec": {
   "display_name": "boxrec",
   "language": "python",
   "name": "python3"
  },
  "language_info": {
   "codemirror_mode": {
    "name": "ipython",
    "version": 3
   },
   "file_extension": ".py",
   "mimetype": "text/x-python",
   "name": "python",
   "nbconvert_exporter": "python",
   "pygments_lexer": "ipython3",
   "version": "3.11.8"
  }
 },
 "nbformat": 4,
 "nbformat_minor": 2
}
